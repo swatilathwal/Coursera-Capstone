{
 "cells": [
  {
   "cell_type": "code",
   "execution_count": 1,
   "metadata": {},
   "outputs": [],
   "source": [
    "import pandas as pd\n",
    "import numpy as np\n",
    "from sklearn.impute import SimpleImputer\n",
    "from numpy import nan\n",
    "from sklearn import preprocessing"
   ]
  },
  {
   "cell_type": "code",
   "execution_count": 2,
   "metadata": {},
   "outputs": [
    {
     "name": "stdout",
     "output_type": "stream",
     "text": [
      "Hello Capstone Project Course!\n"
     ]
    }
   ],
   "source": [
    "print(\"Hello Capstone Project Course!\")"
   ]
  },
  {
   "cell_type": "code",
   "execution_count": 3,
   "metadata": {},
   "outputs": [
    {
     "name": "stderr",
     "output_type": "stream",
     "text": [
      "/Users/pujasonawane/Library/Python/3.7/lib/python/site-packages/IPython/core/interactiveshell.py:3063: DtypeWarning: Columns (33) have mixed types. Specify dtype option on import or set low_memory=False.\n",
      "  interactivity=interactivity, compiler=compiler, result=result)\n"
     ]
    }
   ],
   "source": [
    "data= pd.read_csv(\"/Users/swatilathwal/Downloads/Data-Collisions.csv\")"
   ]
  },
  {
   "cell_type": "code",
   "execution_count": 4,
   "metadata": {},
   "outputs": [
    {
     "data": {
      "text/plain": [
       "(194673, 38)"
      ]
     },
     "execution_count": 4,
     "metadata": {},
     "output_type": "execute_result"
    }
   ],
   "source": [
    "data.shape"
   ]
  },
  {
   "cell_type": "code",
   "execution_count": 5,
   "metadata": {},
   "outputs": [
    {
     "data": {
      "text/html": [
       "<div>\n",
       "<style scoped>\n",
       "    .dataframe tbody tr th:only-of-type {\n",
       "        vertical-align: middle;\n",
       "    }\n",
       "\n",
       "    .dataframe tbody tr th {\n",
       "        vertical-align: top;\n",
       "    }\n",
       "\n",
       "    .dataframe thead th {\n",
       "        text-align: right;\n",
       "    }\n",
       "</style>\n",
       "<table border=\"1\" class=\"dataframe\">\n",
       "  <thead>\n",
       "    <tr style=\"text-align: right;\">\n",
       "      <th></th>\n",
       "      <th>SEVERITYCODE</th>\n",
       "      <th>X</th>\n",
       "      <th>Y</th>\n",
       "      <th>OBJECTID</th>\n",
       "      <th>INCKEY</th>\n",
       "      <th>COLDETKEY</th>\n",
       "      <th>INTKEY</th>\n",
       "      <th>SEVERITYCODE.1</th>\n",
       "      <th>PERSONCOUNT</th>\n",
       "      <th>PEDCOUNT</th>\n",
       "      <th>PEDCYLCOUNT</th>\n",
       "      <th>VEHCOUNT</th>\n",
       "      <th>SDOT_COLCODE</th>\n",
       "      <th>SDOTCOLNUM</th>\n",
       "      <th>SEGLANEKEY</th>\n",
       "      <th>CROSSWALKKEY</th>\n",
       "    </tr>\n",
       "  </thead>\n",
       "  <tbody>\n",
       "    <tr>\n",
       "      <th>count</th>\n",
       "      <td>194673.000000</td>\n",
       "      <td>189339.000000</td>\n",
       "      <td>189339.000000</td>\n",
       "      <td>194673.000000</td>\n",
       "      <td>194673.000000</td>\n",
       "      <td>194673.000000</td>\n",
       "      <td>65070.000000</td>\n",
       "      <td>194673.000000</td>\n",
       "      <td>194673.000000</td>\n",
       "      <td>194673.000000</td>\n",
       "      <td>194673.000000</td>\n",
       "      <td>194673.000000</td>\n",
       "      <td>194673.000000</td>\n",
       "      <td>1.149360e+05</td>\n",
       "      <td>194673.000000</td>\n",
       "      <td>1.946730e+05</td>\n",
       "    </tr>\n",
       "    <tr>\n",
       "      <th>mean</th>\n",
       "      <td>1.298901</td>\n",
       "      <td>-122.330518</td>\n",
       "      <td>47.619543</td>\n",
       "      <td>108479.364930</td>\n",
       "      <td>141091.456350</td>\n",
       "      <td>141298.811381</td>\n",
       "      <td>37558.450576</td>\n",
       "      <td>1.298901</td>\n",
       "      <td>2.444427</td>\n",
       "      <td>0.037139</td>\n",
       "      <td>0.028391</td>\n",
       "      <td>1.920780</td>\n",
       "      <td>13.867768</td>\n",
       "      <td>7.972521e+06</td>\n",
       "      <td>269.401114</td>\n",
       "      <td>9.782452e+03</td>\n",
       "    </tr>\n",
       "    <tr>\n",
       "      <th>std</th>\n",
       "      <td>0.457778</td>\n",
       "      <td>0.029976</td>\n",
       "      <td>0.056157</td>\n",
       "      <td>62649.722558</td>\n",
       "      <td>86634.402737</td>\n",
       "      <td>86986.542110</td>\n",
       "      <td>51745.990273</td>\n",
       "      <td>0.457778</td>\n",
       "      <td>1.345929</td>\n",
       "      <td>0.198150</td>\n",
       "      <td>0.167413</td>\n",
       "      <td>0.631047</td>\n",
       "      <td>6.868755</td>\n",
       "      <td>2.553533e+06</td>\n",
       "      <td>3315.776055</td>\n",
       "      <td>7.226926e+04</td>\n",
       "    </tr>\n",
       "    <tr>\n",
       "      <th>min</th>\n",
       "      <td>1.000000</td>\n",
       "      <td>-122.419091</td>\n",
       "      <td>47.495573</td>\n",
       "      <td>1.000000</td>\n",
       "      <td>1001.000000</td>\n",
       "      <td>1001.000000</td>\n",
       "      <td>23807.000000</td>\n",
       "      <td>1.000000</td>\n",
       "      <td>0.000000</td>\n",
       "      <td>0.000000</td>\n",
       "      <td>0.000000</td>\n",
       "      <td>0.000000</td>\n",
       "      <td>0.000000</td>\n",
       "      <td>1.007024e+06</td>\n",
       "      <td>0.000000</td>\n",
       "      <td>0.000000e+00</td>\n",
       "    </tr>\n",
       "    <tr>\n",
       "      <th>25%</th>\n",
       "      <td>1.000000</td>\n",
       "      <td>-122.348673</td>\n",
       "      <td>47.575956</td>\n",
       "      <td>54267.000000</td>\n",
       "      <td>70383.000000</td>\n",
       "      <td>70383.000000</td>\n",
       "      <td>28667.000000</td>\n",
       "      <td>1.000000</td>\n",
       "      <td>2.000000</td>\n",
       "      <td>0.000000</td>\n",
       "      <td>0.000000</td>\n",
       "      <td>2.000000</td>\n",
       "      <td>11.000000</td>\n",
       "      <td>6.040015e+06</td>\n",
       "      <td>0.000000</td>\n",
       "      <td>0.000000e+00</td>\n",
       "    </tr>\n",
       "    <tr>\n",
       "      <th>50%</th>\n",
       "      <td>1.000000</td>\n",
       "      <td>-122.330224</td>\n",
       "      <td>47.615369</td>\n",
       "      <td>106912.000000</td>\n",
       "      <td>123363.000000</td>\n",
       "      <td>123363.000000</td>\n",
       "      <td>29973.000000</td>\n",
       "      <td>1.000000</td>\n",
       "      <td>2.000000</td>\n",
       "      <td>0.000000</td>\n",
       "      <td>0.000000</td>\n",
       "      <td>2.000000</td>\n",
       "      <td>13.000000</td>\n",
       "      <td>8.023022e+06</td>\n",
       "      <td>0.000000</td>\n",
       "      <td>0.000000e+00</td>\n",
       "    </tr>\n",
       "    <tr>\n",
       "      <th>75%</th>\n",
       "      <td>2.000000</td>\n",
       "      <td>-122.311937</td>\n",
       "      <td>47.663664</td>\n",
       "      <td>162272.000000</td>\n",
       "      <td>203319.000000</td>\n",
       "      <td>203459.000000</td>\n",
       "      <td>33973.000000</td>\n",
       "      <td>2.000000</td>\n",
       "      <td>3.000000</td>\n",
       "      <td>0.000000</td>\n",
       "      <td>0.000000</td>\n",
       "      <td>2.000000</td>\n",
       "      <td>14.000000</td>\n",
       "      <td>1.015501e+07</td>\n",
       "      <td>0.000000</td>\n",
       "      <td>0.000000e+00</td>\n",
       "    </tr>\n",
       "    <tr>\n",
       "      <th>max</th>\n",
       "      <td>2.000000</td>\n",
       "      <td>-122.238949</td>\n",
       "      <td>47.734142</td>\n",
       "      <td>219547.000000</td>\n",
       "      <td>331454.000000</td>\n",
       "      <td>332954.000000</td>\n",
       "      <td>757580.000000</td>\n",
       "      <td>2.000000</td>\n",
       "      <td>81.000000</td>\n",
       "      <td>6.000000</td>\n",
       "      <td>2.000000</td>\n",
       "      <td>12.000000</td>\n",
       "      <td>69.000000</td>\n",
       "      <td>1.307202e+07</td>\n",
       "      <td>525241.000000</td>\n",
       "      <td>5.239700e+06</td>\n",
       "    </tr>\n",
       "  </tbody>\n",
       "</table>\n",
       "</div>"
      ],
      "text/plain": [
       "        SEVERITYCODE              X              Y       OBJECTID  \\\n",
       "count  194673.000000  189339.000000  189339.000000  194673.000000   \n",
       "mean        1.298901    -122.330518      47.619543  108479.364930   \n",
       "std         0.457778       0.029976       0.056157   62649.722558   \n",
       "min         1.000000    -122.419091      47.495573       1.000000   \n",
       "25%         1.000000    -122.348673      47.575956   54267.000000   \n",
       "50%         1.000000    -122.330224      47.615369  106912.000000   \n",
       "75%         2.000000    -122.311937      47.663664  162272.000000   \n",
       "max         2.000000    -122.238949      47.734142  219547.000000   \n",
       "\n",
       "              INCKEY      COLDETKEY         INTKEY  SEVERITYCODE.1  \\\n",
       "count  194673.000000  194673.000000   65070.000000   194673.000000   \n",
       "mean   141091.456350  141298.811381   37558.450576        1.298901   \n",
       "std     86634.402737   86986.542110   51745.990273        0.457778   \n",
       "min      1001.000000    1001.000000   23807.000000        1.000000   \n",
       "25%     70383.000000   70383.000000   28667.000000        1.000000   \n",
       "50%    123363.000000  123363.000000   29973.000000        1.000000   \n",
       "75%    203319.000000  203459.000000   33973.000000        2.000000   \n",
       "max    331454.000000  332954.000000  757580.000000        2.000000   \n",
       "\n",
       "         PERSONCOUNT       PEDCOUNT    PEDCYLCOUNT       VEHCOUNT  \\\n",
       "count  194673.000000  194673.000000  194673.000000  194673.000000   \n",
       "mean        2.444427       0.037139       0.028391       1.920780   \n",
       "std         1.345929       0.198150       0.167413       0.631047   \n",
       "min         0.000000       0.000000       0.000000       0.000000   \n",
       "25%         2.000000       0.000000       0.000000       2.000000   \n",
       "50%         2.000000       0.000000       0.000000       2.000000   \n",
       "75%         3.000000       0.000000       0.000000       2.000000   \n",
       "max        81.000000       6.000000       2.000000      12.000000   \n",
       "\n",
       "        SDOT_COLCODE    SDOTCOLNUM     SEGLANEKEY  CROSSWALKKEY  \n",
       "count  194673.000000  1.149360e+05  194673.000000  1.946730e+05  \n",
       "mean       13.867768  7.972521e+06     269.401114  9.782452e+03  \n",
       "std         6.868755  2.553533e+06    3315.776055  7.226926e+04  \n",
       "min         0.000000  1.007024e+06       0.000000  0.000000e+00  \n",
       "25%        11.000000  6.040015e+06       0.000000  0.000000e+00  \n",
       "50%        13.000000  8.023022e+06       0.000000  0.000000e+00  \n",
       "75%        14.000000  1.015501e+07       0.000000  0.000000e+00  \n",
       "max        69.000000  1.307202e+07  525241.000000  5.239700e+06  "
      ]
     },
     "execution_count": 5,
     "metadata": {},
     "output_type": "execute_result"
    }
   ],
   "source": [
    "data.describe()"
   ]
  },
  {
   "cell_type": "code",
   "execution_count": 6,
   "metadata": {},
   "outputs": [
    {
     "data": {
      "text/plain": [
       "array([2, 1])"
      ]
     },
     "execution_count": 6,
     "metadata": {},
     "output_type": "execute_result"
    }
   ],
   "source": [
    "data[\"SEVERITYCODE\"].unique()"
   ]
  },
  {
   "cell_type": "code",
   "execution_count": 7,
   "metadata": {},
   "outputs": [],
   "source": [
    "data.drop('X',axis=1,inplace=True)"
   ]
  },
  {
   "cell_type": "code",
   "execution_count": 8,
   "metadata": {},
   "outputs": [],
   "source": [
    "data.drop('Y',axis=1, inplace=True)"
   ]
  },
  {
   "cell_type": "code",
   "execution_count": 9,
   "metadata": {},
   "outputs": [
    {
     "data": {
      "text/html": [
       "<div>\n",
       "<style scoped>\n",
       "    .dataframe tbody tr th:only-of-type {\n",
       "        vertical-align: middle;\n",
       "    }\n",
       "\n",
       "    .dataframe tbody tr th {\n",
       "        vertical-align: top;\n",
       "    }\n",
       "\n",
       "    .dataframe thead th {\n",
       "        text-align: right;\n",
       "    }\n",
       "</style>\n",
       "<table border=\"1\" class=\"dataframe\">\n",
       "  <thead>\n",
       "    <tr style=\"text-align: right;\">\n",
       "      <th></th>\n",
       "      <th>SEVERITYCODE</th>\n",
       "      <th>OBJECTID</th>\n",
       "      <th>INCKEY</th>\n",
       "      <th>COLDETKEY</th>\n",
       "      <th>REPORTNO</th>\n",
       "      <th>STATUS</th>\n",
       "      <th>ADDRTYPE</th>\n",
       "      <th>INTKEY</th>\n",
       "      <th>LOCATION</th>\n",
       "      <th>EXCEPTRSNCODE</th>\n",
       "      <th>...</th>\n",
       "      <th>ROADCOND</th>\n",
       "      <th>LIGHTCOND</th>\n",
       "      <th>PEDROWNOTGRNT</th>\n",
       "      <th>SDOTCOLNUM</th>\n",
       "      <th>SPEEDING</th>\n",
       "      <th>ST_COLCODE</th>\n",
       "      <th>ST_COLDESC</th>\n",
       "      <th>SEGLANEKEY</th>\n",
       "      <th>CROSSWALKKEY</th>\n",
       "      <th>HITPARKEDCAR</th>\n",
       "    </tr>\n",
       "  </thead>\n",
       "  <tbody>\n",
       "    <tr>\n",
       "      <th>0</th>\n",
       "      <td>2</td>\n",
       "      <td>1</td>\n",
       "      <td>1307</td>\n",
       "      <td>1307</td>\n",
       "      <td>3502005</td>\n",
       "      <td>Matched</td>\n",
       "      <td>Intersection</td>\n",
       "      <td>37475.0</td>\n",
       "      <td>5TH AVE NE AND NE 103RD ST</td>\n",
       "      <td></td>\n",
       "      <td>...</td>\n",
       "      <td>Wet</td>\n",
       "      <td>Daylight</td>\n",
       "      <td>NaN</td>\n",
       "      <td>NaN</td>\n",
       "      <td>NaN</td>\n",
       "      <td>10</td>\n",
       "      <td>Entering at angle</td>\n",
       "      <td>0</td>\n",
       "      <td>0</td>\n",
       "      <td>N</td>\n",
       "    </tr>\n",
       "    <tr>\n",
       "      <th>1</th>\n",
       "      <td>1</td>\n",
       "      <td>2</td>\n",
       "      <td>52200</td>\n",
       "      <td>52200</td>\n",
       "      <td>2607959</td>\n",
       "      <td>Matched</td>\n",
       "      <td>Block</td>\n",
       "      <td>NaN</td>\n",
       "      <td>AURORA BR BETWEEN RAYE ST AND BRIDGE WAY N</td>\n",
       "      <td>NaN</td>\n",
       "      <td>...</td>\n",
       "      <td>Wet</td>\n",
       "      <td>Dark - Street Lights On</td>\n",
       "      <td>NaN</td>\n",
       "      <td>6354039.0</td>\n",
       "      <td>NaN</td>\n",
       "      <td>11</td>\n",
       "      <td>From same direction - both going straight - bo...</td>\n",
       "      <td>0</td>\n",
       "      <td>0</td>\n",
       "      <td>N</td>\n",
       "    </tr>\n",
       "    <tr>\n",
       "      <th>2</th>\n",
       "      <td>1</td>\n",
       "      <td>3</td>\n",
       "      <td>26700</td>\n",
       "      <td>26700</td>\n",
       "      <td>1482393</td>\n",
       "      <td>Matched</td>\n",
       "      <td>Block</td>\n",
       "      <td>NaN</td>\n",
       "      <td>4TH AVE BETWEEN SENECA ST AND UNIVERSITY ST</td>\n",
       "      <td>NaN</td>\n",
       "      <td>...</td>\n",
       "      <td>Dry</td>\n",
       "      <td>Daylight</td>\n",
       "      <td>NaN</td>\n",
       "      <td>4323031.0</td>\n",
       "      <td>NaN</td>\n",
       "      <td>32</td>\n",
       "      <td>One parked--one moving</td>\n",
       "      <td>0</td>\n",
       "      <td>0</td>\n",
       "      <td>N</td>\n",
       "    </tr>\n",
       "    <tr>\n",
       "      <th>3</th>\n",
       "      <td>1</td>\n",
       "      <td>4</td>\n",
       "      <td>1144</td>\n",
       "      <td>1144</td>\n",
       "      <td>3503937</td>\n",
       "      <td>Matched</td>\n",
       "      <td>Block</td>\n",
       "      <td>NaN</td>\n",
       "      <td>2ND AVE BETWEEN MARION ST AND MADISON ST</td>\n",
       "      <td></td>\n",
       "      <td>...</td>\n",
       "      <td>Dry</td>\n",
       "      <td>Daylight</td>\n",
       "      <td>NaN</td>\n",
       "      <td>NaN</td>\n",
       "      <td>NaN</td>\n",
       "      <td>23</td>\n",
       "      <td>From same direction - all others</td>\n",
       "      <td>0</td>\n",
       "      <td>0</td>\n",
       "      <td>N</td>\n",
       "    </tr>\n",
       "    <tr>\n",
       "      <th>4</th>\n",
       "      <td>2</td>\n",
       "      <td>5</td>\n",
       "      <td>17700</td>\n",
       "      <td>17700</td>\n",
       "      <td>1807429</td>\n",
       "      <td>Matched</td>\n",
       "      <td>Intersection</td>\n",
       "      <td>34387.0</td>\n",
       "      <td>SWIFT AVE S AND SWIFT AV OFF RP</td>\n",
       "      <td>NaN</td>\n",
       "      <td>...</td>\n",
       "      <td>Wet</td>\n",
       "      <td>Daylight</td>\n",
       "      <td>NaN</td>\n",
       "      <td>4028032.0</td>\n",
       "      <td>NaN</td>\n",
       "      <td>10</td>\n",
       "      <td>Entering at angle</td>\n",
       "      <td>0</td>\n",
       "      <td>0</td>\n",
       "      <td>N</td>\n",
       "    </tr>\n",
       "  </tbody>\n",
       "</table>\n",
       "<p>5 rows × 36 columns</p>\n",
       "</div>"
      ],
      "text/plain": [
       "   SEVERITYCODE  OBJECTID  INCKEY  COLDETKEY REPORTNO   STATUS      ADDRTYPE  \\\n",
       "0             2         1    1307       1307  3502005  Matched  Intersection   \n",
       "1             1         2   52200      52200  2607959  Matched         Block   \n",
       "2             1         3   26700      26700  1482393  Matched         Block   \n",
       "3             1         4    1144       1144  3503937  Matched         Block   \n",
       "4             2         5   17700      17700  1807429  Matched  Intersection   \n",
       "\n",
       "    INTKEY                                     LOCATION EXCEPTRSNCODE  ...  \\\n",
       "0  37475.0                   5TH AVE NE AND NE 103RD ST                ...   \n",
       "1      NaN   AURORA BR BETWEEN RAYE ST AND BRIDGE WAY N           NaN  ...   \n",
       "2      NaN  4TH AVE BETWEEN SENECA ST AND UNIVERSITY ST           NaN  ...   \n",
       "3      NaN     2ND AVE BETWEEN MARION ST AND MADISON ST                ...   \n",
       "4  34387.0              SWIFT AVE S AND SWIFT AV OFF RP           NaN  ...   \n",
       "\n",
       "  ROADCOND                LIGHTCOND PEDROWNOTGRNT SDOTCOLNUM  SPEEDING  \\\n",
       "0      Wet                 Daylight           NaN        NaN       NaN   \n",
       "1      Wet  Dark - Street Lights On           NaN  6354039.0       NaN   \n",
       "2      Dry                 Daylight           NaN  4323031.0       NaN   \n",
       "3      Dry                 Daylight           NaN        NaN       NaN   \n",
       "4      Wet                 Daylight           NaN  4028032.0       NaN   \n",
       "\n",
       "   ST_COLCODE                                         ST_COLDESC  SEGLANEKEY  \\\n",
       "0          10                                  Entering at angle           0   \n",
       "1          11  From same direction - both going straight - bo...           0   \n",
       "2          32                             One parked--one moving           0   \n",
       "3          23                   From same direction - all others           0   \n",
       "4          10                                  Entering at angle           0   \n",
       "\n",
       "  CROSSWALKKEY HITPARKEDCAR  \n",
       "0            0            N  \n",
       "1            0            N  \n",
       "2            0            N  \n",
       "3            0            N  \n",
       "4            0            N  \n",
       "\n",
       "[5 rows x 36 columns]"
      ]
     },
     "execution_count": 9,
     "metadata": {},
     "output_type": "execute_result"
    }
   ],
   "source": [
    "data.head()"
   ]
  },
  {
   "cell_type": "code",
   "execution_count": 10,
   "metadata": {},
   "outputs": [
    {
     "data": {
      "text/plain": [
       "SEVERITYCODE      False\n",
       "OBJECTID          False\n",
       "INCKEY            False\n",
       "COLDETKEY         False\n",
       "REPORTNO          False\n",
       "STATUS            False\n",
       "ADDRTYPE           True\n",
       "INTKEY             True\n",
       "LOCATION           True\n",
       "EXCEPTRSNCODE      True\n",
       "EXCEPTRSNDESC      True\n",
       "SEVERITYCODE.1    False\n",
       "SEVERITYDESC      False\n",
       "COLLISIONTYPE      True\n",
       "PERSONCOUNT       False\n",
       "PEDCOUNT          False\n",
       "PEDCYLCOUNT       False\n",
       "VEHCOUNT          False\n",
       "INCDATE           False\n",
       "INCDTTM           False\n",
       "JUNCTIONTYPE       True\n",
       "SDOT_COLCODE      False\n",
       "SDOT_COLDESC      False\n",
       "INATTENTIONIND     True\n",
       "UNDERINFL          True\n",
       "WEATHER            True\n",
       "ROADCOND           True\n",
       "LIGHTCOND          True\n",
       "PEDROWNOTGRNT      True\n",
       "SDOTCOLNUM         True\n",
       "SPEEDING           True\n",
       "ST_COLCODE         True\n",
       "ST_COLDESC         True\n",
       "SEGLANEKEY        False\n",
       "CROSSWALKKEY      False\n",
       "HITPARKEDCAR      False\n",
       "dtype: bool"
      ]
     },
     "execution_count": 10,
     "metadata": {},
     "output_type": "execute_result"
    }
   ],
   "source": [
    "data.isnull().any()"
   ]
  },
  {
   "cell_type": "code",
   "execution_count": 11,
   "metadata": {},
   "outputs": [
    {
     "data": {
      "text/plain": [
       "SEVERITYCODE           0\n",
       "OBJECTID               0\n",
       "INCKEY                 0\n",
       "COLDETKEY              0\n",
       "REPORTNO               0\n",
       "STATUS                 0\n",
       "ADDRTYPE            1926\n",
       "INTKEY            129603\n",
       "LOCATION            2677\n",
       "EXCEPTRSNCODE     109862\n",
       "EXCEPTRSNDESC     189035\n",
       "SEVERITYCODE.1         0\n",
       "SEVERITYDESC           0\n",
       "COLLISIONTYPE       4904\n",
       "PERSONCOUNT            0\n",
       "PEDCOUNT               0\n",
       "PEDCYLCOUNT            0\n",
       "VEHCOUNT               0\n",
       "INCDATE                0\n",
       "INCDTTM                0\n",
       "JUNCTIONTYPE        6329\n",
       "SDOT_COLCODE           0\n",
       "SDOT_COLDESC           0\n",
       "INATTENTIONIND    164868\n",
       "UNDERINFL           4884\n",
       "WEATHER             5081\n",
       "ROADCOND            5012\n",
       "LIGHTCOND           5170\n",
       "PEDROWNOTGRNT     190006\n",
       "SDOTCOLNUM         79737\n",
       "SPEEDING          185340\n",
       "ST_COLCODE            18\n",
       "ST_COLDESC          4904\n",
       "SEGLANEKEY             0\n",
       "CROSSWALKKEY           0\n",
       "HITPARKEDCAR           0\n",
       "dtype: int64"
      ]
     },
     "execution_count": 11,
     "metadata": {},
     "output_type": "execute_result"
    }
   ],
   "source": [
    "data.isnull().sum()"
   ]
  },
  {
   "cell_type": "code",
   "execution_count": 12,
   "metadata": {},
   "outputs": [],
   "source": [
    "data.drop(['PEDROWNOTGRNT', 'SPEEDING', 'EXCEPTRSNDESC', 'INATTENTIONIND'], axis=1, inplace= True)"
   ]
  },
  {
   "cell_type": "code",
   "execution_count": 13,
   "metadata": {},
   "outputs": [
    {
     "data": {
      "text/html": [
       "<div>\n",
       "<style scoped>\n",
       "    .dataframe tbody tr th:only-of-type {\n",
       "        vertical-align: middle;\n",
       "    }\n",
       "\n",
       "    .dataframe tbody tr th {\n",
       "        vertical-align: top;\n",
       "    }\n",
       "\n",
       "    .dataframe thead th {\n",
       "        text-align: right;\n",
       "    }\n",
       "</style>\n",
       "<table border=\"1\" class=\"dataframe\">\n",
       "  <thead>\n",
       "    <tr style=\"text-align: right;\">\n",
       "      <th></th>\n",
       "      <th>SEVERITYCODE</th>\n",
       "      <th>OBJECTID</th>\n",
       "      <th>INCKEY</th>\n",
       "      <th>COLDETKEY</th>\n",
       "      <th>REPORTNO</th>\n",
       "      <th>STATUS</th>\n",
       "      <th>ADDRTYPE</th>\n",
       "      <th>INTKEY</th>\n",
       "      <th>LOCATION</th>\n",
       "      <th>EXCEPTRSNCODE</th>\n",
       "      <th>...</th>\n",
       "      <th>UNDERINFL</th>\n",
       "      <th>WEATHER</th>\n",
       "      <th>ROADCOND</th>\n",
       "      <th>LIGHTCOND</th>\n",
       "      <th>SDOTCOLNUM</th>\n",
       "      <th>ST_COLCODE</th>\n",
       "      <th>ST_COLDESC</th>\n",
       "      <th>SEGLANEKEY</th>\n",
       "      <th>CROSSWALKKEY</th>\n",
       "      <th>HITPARKEDCAR</th>\n",
       "    </tr>\n",
       "  </thead>\n",
       "  <tbody>\n",
       "    <tr>\n",
       "      <th>0</th>\n",
       "      <td>2</td>\n",
       "      <td>1</td>\n",
       "      <td>1307</td>\n",
       "      <td>1307</td>\n",
       "      <td>3502005</td>\n",
       "      <td>Matched</td>\n",
       "      <td>Intersection</td>\n",
       "      <td>37475.0</td>\n",
       "      <td>5TH AVE NE AND NE 103RD ST</td>\n",
       "      <td></td>\n",
       "      <td>...</td>\n",
       "      <td>N</td>\n",
       "      <td>Overcast</td>\n",
       "      <td>Wet</td>\n",
       "      <td>Daylight</td>\n",
       "      <td>NaN</td>\n",
       "      <td>10</td>\n",
       "      <td>Entering at angle</td>\n",
       "      <td>0</td>\n",
       "      <td>0</td>\n",
       "      <td>N</td>\n",
       "    </tr>\n",
       "    <tr>\n",
       "      <th>1</th>\n",
       "      <td>1</td>\n",
       "      <td>2</td>\n",
       "      <td>52200</td>\n",
       "      <td>52200</td>\n",
       "      <td>2607959</td>\n",
       "      <td>Matched</td>\n",
       "      <td>Block</td>\n",
       "      <td>NaN</td>\n",
       "      <td>AURORA BR BETWEEN RAYE ST AND BRIDGE WAY N</td>\n",
       "      <td>NaN</td>\n",
       "      <td>...</td>\n",
       "      <td>0</td>\n",
       "      <td>Raining</td>\n",
       "      <td>Wet</td>\n",
       "      <td>Dark - Street Lights On</td>\n",
       "      <td>6354039.0</td>\n",
       "      <td>11</td>\n",
       "      <td>From same direction - both going straight - bo...</td>\n",
       "      <td>0</td>\n",
       "      <td>0</td>\n",
       "      <td>N</td>\n",
       "    </tr>\n",
       "    <tr>\n",
       "      <th>2</th>\n",
       "      <td>1</td>\n",
       "      <td>3</td>\n",
       "      <td>26700</td>\n",
       "      <td>26700</td>\n",
       "      <td>1482393</td>\n",
       "      <td>Matched</td>\n",
       "      <td>Block</td>\n",
       "      <td>NaN</td>\n",
       "      <td>4TH AVE BETWEEN SENECA ST AND UNIVERSITY ST</td>\n",
       "      <td>NaN</td>\n",
       "      <td>...</td>\n",
       "      <td>0</td>\n",
       "      <td>Overcast</td>\n",
       "      <td>Dry</td>\n",
       "      <td>Daylight</td>\n",
       "      <td>4323031.0</td>\n",
       "      <td>32</td>\n",
       "      <td>One parked--one moving</td>\n",
       "      <td>0</td>\n",
       "      <td>0</td>\n",
       "      <td>N</td>\n",
       "    </tr>\n",
       "    <tr>\n",
       "      <th>3</th>\n",
       "      <td>1</td>\n",
       "      <td>4</td>\n",
       "      <td>1144</td>\n",
       "      <td>1144</td>\n",
       "      <td>3503937</td>\n",
       "      <td>Matched</td>\n",
       "      <td>Block</td>\n",
       "      <td>NaN</td>\n",
       "      <td>2ND AVE BETWEEN MARION ST AND MADISON ST</td>\n",
       "      <td></td>\n",
       "      <td>...</td>\n",
       "      <td>N</td>\n",
       "      <td>Clear</td>\n",
       "      <td>Dry</td>\n",
       "      <td>Daylight</td>\n",
       "      <td>NaN</td>\n",
       "      <td>23</td>\n",
       "      <td>From same direction - all others</td>\n",
       "      <td>0</td>\n",
       "      <td>0</td>\n",
       "      <td>N</td>\n",
       "    </tr>\n",
       "    <tr>\n",
       "      <th>4</th>\n",
       "      <td>2</td>\n",
       "      <td>5</td>\n",
       "      <td>17700</td>\n",
       "      <td>17700</td>\n",
       "      <td>1807429</td>\n",
       "      <td>Matched</td>\n",
       "      <td>Intersection</td>\n",
       "      <td>34387.0</td>\n",
       "      <td>SWIFT AVE S AND SWIFT AV OFF RP</td>\n",
       "      <td>NaN</td>\n",
       "      <td>...</td>\n",
       "      <td>0</td>\n",
       "      <td>Raining</td>\n",
       "      <td>Wet</td>\n",
       "      <td>Daylight</td>\n",
       "      <td>4028032.0</td>\n",
       "      <td>10</td>\n",
       "      <td>Entering at angle</td>\n",
       "      <td>0</td>\n",
       "      <td>0</td>\n",
       "      <td>N</td>\n",
       "    </tr>\n",
       "  </tbody>\n",
       "</table>\n",
       "<p>5 rows × 32 columns</p>\n",
       "</div>"
      ],
      "text/plain": [
       "   SEVERITYCODE  OBJECTID  INCKEY  COLDETKEY REPORTNO   STATUS      ADDRTYPE  \\\n",
       "0             2         1    1307       1307  3502005  Matched  Intersection   \n",
       "1             1         2   52200      52200  2607959  Matched         Block   \n",
       "2             1         3   26700      26700  1482393  Matched         Block   \n",
       "3             1         4    1144       1144  3503937  Matched         Block   \n",
       "4             2         5   17700      17700  1807429  Matched  Intersection   \n",
       "\n",
       "    INTKEY                                     LOCATION EXCEPTRSNCODE  ...  \\\n",
       "0  37475.0                   5TH AVE NE AND NE 103RD ST                ...   \n",
       "1      NaN   AURORA BR BETWEEN RAYE ST AND BRIDGE WAY N           NaN  ...   \n",
       "2      NaN  4TH AVE BETWEEN SENECA ST AND UNIVERSITY ST           NaN  ...   \n",
       "3      NaN     2ND AVE BETWEEN MARION ST AND MADISON ST                ...   \n",
       "4  34387.0              SWIFT AVE S AND SWIFT AV OFF RP           NaN  ...   \n",
       "\n",
       "   UNDERINFL   WEATHER ROADCOND                LIGHTCOND  SDOTCOLNUM  \\\n",
       "0          N  Overcast      Wet                 Daylight         NaN   \n",
       "1          0   Raining      Wet  Dark - Street Lights On   6354039.0   \n",
       "2          0  Overcast      Dry                 Daylight   4323031.0   \n",
       "3          N     Clear      Dry                 Daylight         NaN   \n",
       "4          0   Raining      Wet                 Daylight   4028032.0   \n",
       "\n",
       "   ST_COLCODE                                         ST_COLDESC SEGLANEKEY  \\\n",
       "0          10                                  Entering at angle          0   \n",
       "1          11  From same direction - both going straight - bo...          0   \n",
       "2          32                             One parked--one moving          0   \n",
       "3          23                   From same direction - all others          0   \n",
       "4          10                                  Entering at angle          0   \n",
       "\n",
       "  CROSSWALKKEY HITPARKEDCAR  \n",
       "0            0            N  \n",
       "1            0            N  \n",
       "2            0            N  \n",
       "3            0            N  \n",
       "4            0            N  \n",
       "\n",
       "[5 rows x 32 columns]"
      ]
     },
     "execution_count": 13,
     "metadata": {},
     "output_type": "execute_result"
    }
   ],
   "source": [
    "data.head()"
   ]
  },
  {
   "cell_type": "code",
   "execution_count": 14,
   "metadata": {},
   "outputs": [
    {
     "data": {
      "text/plain": [
       "SEVERITYCODE           0\n",
       "OBJECTID               0\n",
       "INCKEY                 0\n",
       "COLDETKEY              0\n",
       "REPORTNO               0\n",
       "STATUS                 0\n",
       "ADDRTYPE            1926\n",
       "INTKEY            129603\n",
       "LOCATION            2677\n",
       "EXCEPTRSNCODE     109862\n",
       "SEVERITYCODE.1         0\n",
       "SEVERITYDESC           0\n",
       "COLLISIONTYPE       4904\n",
       "PERSONCOUNT            0\n",
       "PEDCOUNT               0\n",
       "PEDCYLCOUNT            0\n",
       "VEHCOUNT               0\n",
       "INCDATE                0\n",
       "INCDTTM                0\n",
       "JUNCTIONTYPE        6329\n",
       "SDOT_COLCODE           0\n",
       "SDOT_COLDESC           0\n",
       "UNDERINFL           4884\n",
       "WEATHER             5081\n",
       "ROADCOND            5012\n",
       "LIGHTCOND           5170\n",
       "SDOTCOLNUM         79737\n",
       "ST_COLCODE            18\n",
       "ST_COLDESC          4904\n",
       "SEGLANEKEY             0\n",
       "CROSSWALKKEY           0\n",
       "HITPARKEDCAR           0\n",
       "dtype: int64"
      ]
     },
     "execution_count": 14,
     "metadata": {},
     "output_type": "execute_result"
    }
   ],
   "source": [
    "data.isnull().sum()"
   ]
  },
  {
   "cell_type": "code",
   "execution_count": 15,
   "metadata": {},
   "outputs": [
    {
     "data": {
      "text/plain": [
       "0    Dry\n",
       "dtype: object"
      ]
     },
     "execution_count": 15,
     "metadata": {},
     "output_type": "execute_result"
    }
   ],
   "source": [
    "data['ROADCOND'].mode()"
   ]
  },
  {
   "cell_type": "code",
   "execution_count": 16,
   "metadata": {},
   "outputs": [],
   "source": [
    "data.drop(['EXCEPTRSNCODE','LOCATION','SDOTCOLNUM'],axis=1, inplace= True)"
   ]
  },
  {
   "cell_type": "code",
   "execution_count": 17,
   "metadata": {},
   "outputs": [
    {
     "data": {
      "text/plain": [
       "SEVERITYCODE      False\n",
       "OBJECTID          False\n",
       "INCKEY            False\n",
       "COLDETKEY         False\n",
       "REPORTNO          False\n",
       "STATUS            False\n",
       "ADDRTYPE           True\n",
       "INTKEY             True\n",
       "SEVERITYCODE.1    False\n",
       "SEVERITYDESC      False\n",
       "COLLISIONTYPE      True\n",
       "PERSONCOUNT       False\n",
       "PEDCOUNT          False\n",
       "PEDCYLCOUNT       False\n",
       "VEHCOUNT          False\n",
       "INCDATE           False\n",
       "INCDTTM           False\n",
       "JUNCTIONTYPE       True\n",
       "SDOT_COLCODE      False\n",
       "SDOT_COLDESC      False\n",
       "UNDERINFL          True\n",
       "WEATHER            True\n",
       "ROADCOND           True\n",
       "LIGHTCOND          True\n",
       "ST_COLCODE         True\n",
       "ST_COLDESC         True\n",
       "SEGLANEKEY        False\n",
       "CROSSWALKKEY      False\n",
       "HITPARKEDCAR      False\n",
       "dtype: bool"
      ]
     },
     "execution_count": 17,
     "metadata": {},
     "output_type": "execute_result"
    }
   ],
   "source": [
    "data.isnull().any()"
   ]
  },
  {
   "cell_type": "markdown",
   "metadata": {},
   "source": [
    "### imputing missing value"
   ]
  },
  {
   "cell_type": "code",
   "execution_count": 19,
   "metadata": {},
   "outputs": [],
   "source": [
    "data['INTKEY'].fillna(data['INTKEY'].mean(), inplace=True)"
   ]
  },
  {
   "cell_type": "code",
   "execution_count": 20,
   "metadata": {},
   "outputs": [],
   "source": [
    "data['COLLISIONTYPE'].fillna(data['COLLISIONTYPE'].mode()[0], inplace=True)"
   ]
  },
  {
   "cell_type": "code",
   "execution_count": 21,
   "metadata": {},
   "outputs": [],
   "source": [
    "data['JUNCTIONTYPE'].fillna(data['JUNCTIONTYPE'].mode()[0], inplace=True)"
   ]
  },
  {
   "cell_type": "code",
   "execution_count": 22,
   "metadata": {},
   "outputs": [],
   "source": [
    "data['UNDERINFL'].fillna(data['UNDERINFL'].mode()[0], inplace=True)"
   ]
  },
  {
   "cell_type": "code",
   "execution_count": 23,
   "metadata": {},
   "outputs": [],
   "source": [
    "data['ROADCOND'].fillna(data['ROADCOND'].mode()[0], inplace=True)"
   ]
  },
  {
   "cell_type": "code",
   "execution_count": 24,
   "metadata": {},
   "outputs": [],
   "source": [
    "data['LIGHTCOND'].fillna(data['LIGHTCOND'].mode()[0], inplace=True)"
   ]
  },
  {
   "cell_type": "code",
   "execution_count": 25,
   "metadata": {},
   "outputs": [],
   "source": [
    "data['ST_COLCODE'].fillna(data['ST_COLCODE'].mode()[0], inplace=True)"
   ]
  },
  {
   "cell_type": "code",
   "execution_count": 26,
   "metadata": {},
   "outputs": [],
   "source": [
    "data['ST_COLDESC'].fillna(data['ST_COLDESC'].mode()[0], inplace=True)"
   ]
  },
  {
   "cell_type": "code",
   "execution_count": 27,
   "metadata": {},
   "outputs": [],
   "source": [
    "data['ADDRTYPE'].fillna(data['ADDRTYPE'].mode()[0], inplace=True)"
   ]
  },
  {
   "cell_type": "code",
   "execution_count": 28,
   "metadata": {},
   "outputs": [],
   "source": [
    "data['WEATHER'].fillna(data['WEATHER'].mode()[0], inplace=True)"
   ]
  },
  {
   "cell_type": "code",
   "execution_count": 29,
   "metadata": {},
   "outputs": [
    {
     "data": {
      "text/plain": [
       "SEVERITYCODE      False\n",
       "OBJECTID          False\n",
       "INCKEY            False\n",
       "COLDETKEY         False\n",
       "REPORTNO          False\n",
       "STATUS            False\n",
       "ADDRTYPE          False\n",
       "INTKEY            False\n",
       "SEVERITYCODE.1    False\n",
       "SEVERITYDESC      False\n",
       "COLLISIONTYPE     False\n",
       "PERSONCOUNT       False\n",
       "PEDCOUNT          False\n",
       "PEDCYLCOUNT       False\n",
       "VEHCOUNT          False\n",
       "INCDATE           False\n",
       "INCDTTM           False\n",
       "JUNCTIONTYPE      False\n",
       "SDOT_COLCODE      False\n",
       "SDOT_COLDESC      False\n",
       "UNDERINFL         False\n",
       "WEATHER           False\n",
       "ROADCOND          False\n",
       "LIGHTCOND         False\n",
       "ST_COLCODE        False\n",
       "ST_COLDESC        False\n",
       "SEGLANEKEY        False\n",
       "CROSSWALKKEY      False\n",
       "HITPARKEDCAR      False\n",
       "dtype: bool"
      ]
     },
     "execution_count": 29,
     "metadata": {},
     "output_type": "execute_result"
    }
   ],
   "source": [
    "data.isnull().any()"
   ]
  },
  {
   "cell_type": "code",
   "execution_count": 30,
   "metadata": {},
   "outputs": [
    {
     "data": {
      "text/plain": [
       "Index(['SEVERITYCODE', 'OBJECTID', 'INCKEY', 'COLDETKEY', 'REPORTNO', 'STATUS',\n",
       "       'ADDRTYPE', 'INTKEY', 'SEVERITYCODE.1', 'SEVERITYDESC', 'COLLISIONTYPE',\n",
       "       'PERSONCOUNT', 'PEDCOUNT', 'PEDCYLCOUNT', 'VEHCOUNT', 'INCDATE',\n",
       "       'INCDTTM', 'JUNCTIONTYPE', 'SDOT_COLCODE', 'SDOT_COLDESC', 'UNDERINFL',\n",
       "       'WEATHER', 'ROADCOND', 'LIGHTCOND', 'ST_COLCODE', 'ST_COLDESC',\n",
       "       'SEGLANEKEY', 'CROSSWALKKEY', 'HITPARKEDCAR'],\n",
       "      dtype='object')"
      ]
     },
     "execution_count": 30,
     "metadata": {},
     "output_type": "execute_result"
    }
   ],
   "source": [
    "data.columns"
   ]
  },
  {
   "cell_type": "code",
   "execution_count": 31,
   "metadata": {},
   "outputs": [
    {
     "data": {
      "text/plain": [
       "SEVERITYCODE      1.000000\n",
       "OBJECTID          0.020131\n",
       "INCKEY            0.022065\n",
       "COLDETKEY         0.022079\n",
       "INTKEY            0.004094\n",
       "SEVERITYCODE.1    1.000000\n",
       "PERSONCOUNT       0.130949\n",
       "PEDCOUNT          0.246338\n",
       "PEDCYLCOUNT       0.214218\n",
       "VEHCOUNT         -0.054686\n",
       "SDOT_COLCODE      0.188905\n",
       "SEGLANEKEY        0.104276\n",
       "CROSSWALKKEY      0.175093\n",
       "dtype: float64"
      ]
     },
     "execution_count": 31,
     "metadata": {},
     "output_type": "execute_result"
    }
   ],
   "source": [
    "data.corrwith(data[\"SEVERITYCODE\"])"
   ]
  },
  {
   "cell_type": "markdown",
   "metadata": {},
   "source": [
    "### data transformation and categorical to numerical"
   ]
  },
  {
   "cell_type": "code",
   "execution_count": 33,
   "metadata": {},
   "outputs": [
    {
     "data": {
      "text/html": [
       "<div>\n",
       "<style scoped>\n",
       "    .dataframe tbody tr th:only-of-type {\n",
       "        vertical-align: middle;\n",
       "    }\n",
       "\n",
       "    .dataframe tbody tr th {\n",
       "        vertical-align: top;\n",
       "    }\n",
       "\n",
       "    .dataframe thead th {\n",
       "        text-align: right;\n",
       "    }\n",
       "</style>\n",
       "<table border=\"1\" class=\"dataframe\">\n",
       "  <thead>\n",
       "    <tr style=\"text-align: right;\">\n",
       "      <th></th>\n",
       "      <th>SEVERITYCODE</th>\n",
       "      <th>OBJECTID</th>\n",
       "      <th>INCKEY</th>\n",
       "      <th>COLDETKEY</th>\n",
       "      <th>REPORTNO</th>\n",
       "      <th>STATUS</th>\n",
       "      <th>ADDRTYPE</th>\n",
       "      <th>INTKEY</th>\n",
       "      <th>SEVERITYCODE.1</th>\n",
       "      <th>SEVERITYDESC</th>\n",
       "      <th>...</th>\n",
       "      <th>SDOT_COLDESC</th>\n",
       "      <th>UNDERINFL</th>\n",
       "      <th>WEATHER</th>\n",
       "      <th>ROADCOND</th>\n",
       "      <th>LIGHTCOND</th>\n",
       "      <th>ST_COLCODE</th>\n",
       "      <th>ST_COLDESC</th>\n",
       "      <th>SEGLANEKEY</th>\n",
       "      <th>CROSSWALKKEY</th>\n",
       "      <th>HITPARKEDCAR</th>\n",
       "    </tr>\n",
       "  </thead>\n",
       "  <tbody>\n",
       "    <tr>\n",
       "      <th>0</th>\n",
       "      <td>2</td>\n",
       "      <td>1</td>\n",
       "      <td>1307</td>\n",
       "      <td>1307</td>\n",
       "      <td>3502005</td>\n",
       "      <td>Matched</td>\n",
       "      <td>Intersection</td>\n",
       "      <td>37475.000000</td>\n",
       "      <td>2</td>\n",
       "      <td>Injury Collision</td>\n",
       "      <td>...</td>\n",
       "      <td>MOTOR VEHICLE STRUCK MOTOR VEHICLE, FRONT END ...</td>\n",
       "      <td>N</td>\n",
       "      <td>Overcast</td>\n",
       "      <td>Wet</td>\n",
       "      <td>Daylight</td>\n",
       "      <td>10</td>\n",
       "      <td>Entering at angle</td>\n",
       "      <td>0</td>\n",
       "      <td>0</td>\n",
       "      <td>N</td>\n",
       "    </tr>\n",
       "    <tr>\n",
       "      <th>1</th>\n",
       "      <td>1</td>\n",
       "      <td>2</td>\n",
       "      <td>52200</td>\n",
       "      <td>52200</td>\n",
       "      <td>2607959</td>\n",
       "      <td>Matched</td>\n",
       "      <td>Block</td>\n",
       "      <td>37558.450576</td>\n",
       "      <td>1</td>\n",
       "      <td>Property Damage Only Collision</td>\n",
       "      <td>...</td>\n",
       "      <td>MOTOR VEHICLE STRUCK MOTOR VEHICLE, LEFT SIDE ...</td>\n",
       "      <td>0</td>\n",
       "      <td>Raining</td>\n",
       "      <td>Wet</td>\n",
       "      <td>Dark - Street Lights On</td>\n",
       "      <td>11</td>\n",
       "      <td>From same direction - both going straight - bo...</td>\n",
       "      <td>0</td>\n",
       "      <td>0</td>\n",
       "      <td>N</td>\n",
       "    </tr>\n",
       "    <tr>\n",
       "      <th>2</th>\n",
       "      <td>1</td>\n",
       "      <td>3</td>\n",
       "      <td>26700</td>\n",
       "      <td>26700</td>\n",
       "      <td>1482393</td>\n",
       "      <td>Matched</td>\n",
       "      <td>Block</td>\n",
       "      <td>37558.450576</td>\n",
       "      <td>1</td>\n",
       "      <td>Property Damage Only Collision</td>\n",
       "      <td>...</td>\n",
       "      <td>MOTOR VEHICLE STRUCK MOTOR VEHICLE, REAR END</td>\n",
       "      <td>0</td>\n",
       "      <td>Overcast</td>\n",
       "      <td>Dry</td>\n",
       "      <td>Daylight</td>\n",
       "      <td>32</td>\n",
       "      <td>One parked--one moving</td>\n",
       "      <td>0</td>\n",
       "      <td>0</td>\n",
       "      <td>N</td>\n",
       "    </tr>\n",
       "    <tr>\n",
       "      <th>3</th>\n",
       "      <td>1</td>\n",
       "      <td>4</td>\n",
       "      <td>1144</td>\n",
       "      <td>1144</td>\n",
       "      <td>3503937</td>\n",
       "      <td>Matched</td>\n",
       "      <td>Block</td>\n",
       "      <td>37558.450576</td>\n",
       "      <td>1</td>\n",
       "      <td>Property Damage Only Collision</td>\n",
       "      <td>...</td>\n",
       "      <td>MOTOR VEHICLE STRUCK MOTOR VEHICLE, FRONT END ...</td>\n",
       "      <td>N</td>\n",
       "      <td>Clear</td>\n",
       "      <td>Dry</td>\n",
       "      <td>Daylight</td>\n",
       "      <td>23</td>\n",
       "      <td>From same direction - all others</td>\n",
       "      <td>0</td>\n",
       "      <td>0</td>\n",
       "      <td>N</td>\n",
       "    </tr>\n",
       "    <tr>\n",
       "      <th>4</th>\n",
       "      <td>2</td>\n",
       "      <td>5</td>\n",
       "      <td>17700</td>\n",
       "      <td>17700</td>\n",
       "      <td>1807429</td>\n",
       "      <td>Matched</td>\n",
       "      <td>Intersection</td>\n",
       "      <td>34387.000000</td>\n",
       "      <td>2</td>\n",
       "      <td>Injury Collision</td>\n",
       "      <td>...</td>\n",
       "      <td>MOTOR VEHICLE STRUCK MOTOR VEHICLE, FRONT END ...</td>\n",
       "      <td>0</td>\n",
       "      <td>Raining</td>\n",
       "      <td>Wet</td>\n",
       "      <td>Daylight</td>\n",
       "      <td>10</td>\n",
       "      <td>Entering at angle</td>\n",
       "      <td>0</td>\n",
       "      <td>0</td>\n",
       "      <td>N</td>\n",
       "    </tr>\n",
       "  </tbody>\n",
       "</table>\n",
       "<p>5 rows × 29 columns</p>\n",
       "</div>"
      ],
      "text/plain": [
       "   SEVERITYCODE  OBJECTID  INCKEY  COLDETKEY REPORTNO   STATUS      ADDRTYPE  \\\n",
       "0             2         1    1307       1307  3502005  Matched  Intersection   \n",
       "1             1         2   52200      52200  2607959  Matched         Block   \n",
       "2             1         3   26700      26700  1482393  Matched         Block   \n",
       "3             1         4    1144       1144  3503937  Matched         Block   \n",
       "4             2         5   17700      17700  1807429  Matched  Intersection   \n",
       "\n",
       "         INTKEY  SEVERITYCODE.1                    SEVERITYDESC  ...  \\\n",
       "0  37475.000000               2                Injury Collision  ...   \n",
       "1  37558.450576               1  Property Damage Only Collision  ...   \n",
       "2  37558.450576               1  Property Damage Only Collision  ...   \n",
       "3  37558.450576               1  Property Damage Only Collision  ...   \n",
       "4  34387.000000               2                Injury Collision  ...   \n",
       "\n",
       "                                        SDOT_COLDESC  UNDERINFL   WEATHER  \\\n",
       "0  MOTOR VEHICLE STRUCK MOTOR VEHICLE, FRONT END ...          N  Overcast   \n",
       "1  MOTOR VEHICLE STRUCK MOTOR VEHICLE, LEFT SIDE ...          0   Raining   \n",
       "2       MOTOR VEHICLE STRUCK MOTOR VEHICLE, REAR END          0  Overcast   \n",
       "3  MOTOR VEHICLE STRUCK MOTOR VEHICLE, FRONT END ...          N     Clear   \n",
       "4  MOTOR VEHICLE STRUCK MOTOR VEHICLE, FRONT END ...          0   Raining   \n",
       "\n",
       "   ROADCOND                LIGHTCOND ST_COLCODE  \\\n",
       "0       Wet                 Daylight         10   \n",
       "1       Wet  Dark - Street Lights On         11   \n",
       "2       Dry                 Daylight         32   \n",
       "3       Dry                 Daylight         23   \n",
       "4       Wet                 Daylight         10   \n",
       "\n",
       "                                          ST_COLDESC SEGLANEKEY  CROSSWALKKEY  \\\n",
       "0                                  Entering at angle          0             0   \n",
       "1  From same direction - both going straight - bo...          0             0   \n",
       "2                             One parked--one moving          0             0   \n",
       "3                   From same direction - all others          0             0   \n",
       "4                                  Entering at angle          0             0   \n",
       "\n",
       "  HITPARKEDCAR  \n",
       "0            N  \n",
       "1            N  \n",
       "2            N  \n",
       "3            N  \n",
       "4            N  \n",
       "\n",
       "[5 rows x 29 columns]"
      ]
     },
     "execution_count": 33,
     "metadata": {},
     "output_type": "execute_result"
    }
   ],
   "source": [
    "data.head()"
   ]
  },
  {
   "cell_type": "code",
   "execution_count": 34,
   "metadata": {},
   "outputs": [],
   "source": [
    "data['INCDATE'] = pd.to_datetime(data['INCDATE'])\n",
    "data['INCDTTM'] = pd.to_datetime(data['INCDTTM'])"
   ]
  },
  {
   "cell_type": "code",
   "execution_count": 35,
   "metadata": {},
   "outputs": [
    {
     "name": "stdout",
     "output_type": "stream",
     "text": [
      "<class 'pandas.core.frame.DataFrame'>\n",
      "RangeIndex: 194673 entries, 0 to 194672\n",
      "Data columns (total 29 columns):\n",
      "SEVERITYCODE      194673 non-null int64\n",
      "OBJECTID          194673 non-null int64\n",
      "INCKEY            194673 non-null int64\n",
      "COLDETKEY         194673 non-null int64\n",
      "REPORTNO          194673 non-null object\n",
      "STATUS            194673 non-null object\n",
      "ADDRTYPE          194673 non-null object\n",
      "INTKEY            194673 non-null float64\n",
      "SEVERITYCODE.1    194673 non-null int64\n",
      "SEVERITYDESC      194673 non-null object\n",
      "COLLISIONTYPE     194673 non-null object\n",
      "PERSONCOUNT       194673 non-null int64\n",
      "PEDCOUNT          194673 non-null int64\n",
      "PEDCYLCOUNT       194673 non-null int64\n",
      "VEHCOUNT          194673 non-null int64\n",
      "INCDATE           194673 non-null datetime64[ns, UTC]\n",
      "INCDTTM           194673 non-null datetime64[ns]\n",
      "JUNCTIONTYPE      194673 non-null object\n",
      "SDOT_COLCODE      194673 non-null int64\n",
      "SDOT_COLDESC      194673 non-null object\n",
      "UNDERINFL         194673 non-null object\n",
      "WEATHER           194673 non-null object\n",
      "ROADCOND          194673 non-null object\n",
      "LIGHTCOND         194673 non-null object\n",
      "ST_COLCODE        194673 non-null object\n",
      "ST_COLDESC        194673 non-null object\n",
      "SEGLANEKEY        194673 non-null int64\n",
      "CROSSWALKKEY      194673 non-null int64\n",
      "HITPARKEDCAR      194673 non-null object\n",
      "dtypes: datetime64[ns, UTC](1), datetime64[ns](1), float64(1), int64(12), object(14)\n",
      "memory usage: 43.1+ MB\n"
     ]
    }
   ],
   "source": [
    "data.info()"
   ]
  },
  {
   "cell_type": "code",
   "execution_count": 36,
   "metadata": {},
   "outputs": [
    {
     "data": {
      "text/plain": [
       "0        2013-03-27 14:54:00\n",
       "1        2006-12-20 18:55:00\n",
       "2        2004-11-18 10:20:00\n",
       "3        2013-03-29 09:26:00\n",
       "4        2004-01-28 08:04:00\n",
       "                 ...        \n",
       "194668   2018-11-12 08:12:00\n",
       "194669   2018-12-18 09:14:00\n",
       "194670   2019-01-19 09:25:00\n",
       "194671   2019-01-15 16:48:00\n",
       "194672   2018-11-30 15:45:00\n",
       "Name: INCDTTM, Length: 194673, dtype: datetime64[ns]"
      ]
     },
     "execution_count": 36,
     "metadata": {},
     "output_type": "execute_result"
    }
   ],
   "source": [
    "data['INCDTTM']"
   ]
  },
  {
   "cell_type": "code",
   "execution_count": 37,
   "metadata": {},
   "outputs": [],
   "source": [
    "categorical_cols=['STATUS','ADDRTYPE','SEVERITYDESC','COLLISIONTYPE','JUNCTIONTYPE',\n",
    "                       'SDOT_COLDESC','UNDERINFL','WEATHER','ROADCOND','LIGHTCOND',\n",
    "                       'ST_COLCODE','ST_COLDESC','HITPARKEDCAR']"
   ]
  },
  {
   "cell_type": "code",
   "execution_count": 38,
   "metadata": {},
   "outputs": [],
   "source": [
    "for i in range(len(categorical_cols)):\n",
    "    z= categorical_cols[i]\n",
    "    data[z]= data[z].astype('category')"
   ]
  },
  {
   "cell_type": "code",
   "execution_count": 39,
   "metadata": {},
   "outputs": [],
   "source": [
    "cat_columns = data.select_dtypes(['category']).columns\n",
    "cat_columns\n",
    "data[cat_columns] = data[cat_columns].apply(lambda x: x.cat.codes)"
   ]
  },
  {
   "cell_type": "code",
   "execution_count": 40,
   "metadata": {},
   "outputs": [
    {
     "data": {
      "text/html": [
       "<div>\n",
       "<style scoped>\n",
       "    .dataframe tbody tr th:only-of-type {\n",
       "        vertical-align: middle;\n",
       "    }\n",
       "\n",
       "    .dataframe tbody tr th {\n",
       "        vertical-align: top;\n",
       "    }\n",
       "\n",
       "    .dataframe thead th {\n",
       "        text-align: right;\n",
       "    }\n",
       "</style>\n",
       "<table border=\"1\" class=\"dataframe\">\n",
       "  <thead>\n",
       "    <tr style=\"text-align: right;\">\n",
       "      <th></th>\n",
       "      <th>SEVERITYCODE</th>\n",
       "      <th>OBJECTID</th>\n",
       "      <th>INCKEY</th>\n",
       "      <th>COLDETKEY</th>\n",
       "      <th>REPORTNO</th>\n",
       "      <th>STATUS</th>\n",
       "      <th>ADDRTYPE</th>\n",
       "      <th>INTKEY</th>\n",
       "      <th>SEVERITYCODE.1</th>\n",
       "      <th>SEVERITYDESC</th>\n",
       "      <th>...</th>\n",
       "      <th>SDOT_COLDESC</th>\n",
       "      <th>UNDERINFL</th>\n",
       "      <th>WEATHER</th>\n",
       "      <th>ROADCOND</th>\n",
       "      <th>LIGHTCOND</th>\n",
       "      <th>ST_COLCODE</th>\n",
       "      <th>ST_COLDESC</th>\n",
       "      <th>SEGLANEKEY</th>\n",
       "      <th>CROSSWALKKEY</th>\n",
       "      <th>HITPARKEDCAR</th>\n",
       "    </tr>\n",
       "  </thead>\n",
       "  <tbody>\n",
       "    <tr>\n",
       "      <th>0</th>\n",
       "      <td>2</td>\n",
       "      <td>1</td>\n",
       "      <td>1307</td>\n",
       "      <td>1307</td>\n",
       "      <td>3502005</td>\n",
       "      <td>0</td>\n",
       "      <td>2</td>\n",
       "      <td>37475.000000</td>\n",
       "      <td>2</td>\n",
       "      <td>0</td>\n",
       "      <td>...</td>\n",
       "      <td>14</td>\n",
       "      <td>2</td>\n",
       "      <td>4</td>\n",
       "      <td>8</td>\n",
       "      <td>5</td>\n",
       "      <td>55</td>\n",
       "      <td>4</td>\n",
       "      <td>0</td>\n",
       "      <td>0</td>\n",
       "      <td>0</td>\n",
       "    </tr>\n",
       "    <tr>\n",
       "      <th>1</th>\n",
       "      <td>1</td>\n",
       "      <td>2</td>\n",
       "      <td>52200</td>\n",
       "      <td>52200</td>\n",
       "      <td>2607959</td>\n",
       "      <td>0</td>\n",
       "      <td>1</td>\n",
       "      <td>37558.450576</td>\n",
       "      <td>1</td>\n",
       "      <td>1</td>\n",
       "      <td>...</td>\n",
       "      <td>16</td>\n",
       "      <td>0</td>\n",
       "      <td>6</td>\n",
       "      <td>8</td>\n",
       "      <td>2</td>\n",
       "      <td>56</td>\n",
       "      <td>16</td>\n",
       "      <td>0</td>\n",
       "      <td>0</td>\n",
       "      <td>0</td>\n",
       "    </tr>\n",
       "    <tr>\n",
       "      <th>2</th>\n",
       "      <td>1</td>\n",
       "      <td>3</td>\n",
       "      <td>26700</td>\n",
       "      <td>26700</td>\n",
       "      <td>1482393</td>\n",
       "      <td>0</td>\n",
       "      <td>1</td>\n",
       "      <td>37558.450576</td>\n",
       "      <td>1</td>\n",
       "      <td>1</td>\n",
       "      <td>...</td>\n",
       "      <td>17</td>\n",
       "      <td>0</td>\n",
       "      <td>4</td>\n",
       "      <td>0</td>\n",
       "      <td>5</td>\n",
       "      <td>79</td>\n",
       "      <td>27</td>\n",
       "      <td>0</td>\n",
       "      <td>0</td>\n",
       "      <td>0</td>\n",
       "    </tr>\n",
       "    <tr>\n",
       "      <th>3</th>\n",
       "      <td>1</td>\n",
       "      <td>4</td>\n",
       "      <td>1144</td>\n",
       "      <td>1144</td>\n",
       "      <td>3503937</td>\n",
       "      <td>0</td>\n",
       "      <td>1</td>\n",
       "      <td>37558.450576</td>\n",
       "      <td>1</td>\n",
       "      <td>1</td>\n",
       "      <td>...</td>\n",
       "      <td>14</td>\n",
       "      <td>2</td>\n",
       "      <td>1</td>\n",
       "      <td>0</td>\n",
       "      <td>5</td>\n",
       "      <td>69</td>\n",
       "      <td>14</td>\n",
       "      <td>0</td>\n",
       "      <td>0</td>\n",
       "      <td>0</td>\n",
       "    </tr>\n",
       "    <tr>\n",
       "      <th>4</th>\n",
       "      <td>2</td>\n",
       "      <td>5</td>\n",
       "      <td>17700</td>\n",
       "      <td>17700</td>\n",
       "      <td>1807429</td>\n",
       "      <td>0</td>\n",
       "      <td>2</td>\n",
       "      <td>34387.000000</td>\n",
       "      <td>2</td>\n",
       "      <td>0</td>\n",
       "      <td>...</td>\n",
       "      <td>14</td>\n",
       "      <td>0</td>\n",
       "      <td>6</td>\n",
       "      <td>8</td>\n",
       "      <td>5</td>\n",
       "      <td>55</td>\n",
       "      <td>4</td>\n",
       "      <td>0</td>\n",
       "      <td>0</td>\n",
       "      <td>0</td>\n",
       "    </tr>\n",
       "  </tbody>\n",
       "</table>\n",
       "<p>5 rows × 29 columns</p>\n",
       "</div>"
      ],
      "text/plain": [
       "   SEVERITYCODE  OBJECTID  INCKEY  COLDETKEY REPORTNO  STATUS  ADDRTYPE  \\\n",
       "0             2         1    1307       1307  3502005       0         2   \n",
       "1             1         2   52200      52200  2607959       0         1   \n",
       "2             1         3   26700      26700  1482393       0         1   \n",
       "3             1         4    1144       1144  3503937       0         1   \n",
       "4             2         5   17700      17700  1807429       0         2   \n",
       "\n",
       "         INTKEY  SEVERITYCODE.1  SEVERITYDESC  ...  SDOT_COLDESC  UNDERINFL  \\\n",
       "0  37475.000000               2             0  ...            14          2   \n",
       "1  37558.450576               1             1  ...            16          0   \n",
       "2  37558.450576               1             1  ...            17          0   \n",
       "3  37558.450576               1             1  ...            14          2   \n",
       "4  34387.000000               2             0  ...            14          0   \n",
       "\n",
       "   WEATHER  ROADCOND  LIGHTCOND ST_COLCODE ST_COLDESC  SEGLANEKEY  \\\n",
       "0        4         8          5         55          4           0   \n",
       "1        6         8          2         56         16           0   \n",
       "2        4         0          5         79         27           0   \n",
       "3        1         0          5         69         14           0   \n",
       "4        6         8          5         55          4           0   \n",
       "\n",
       "   CROSSWALKKEY  HITPARKEDCAR  \n",
       "0             0             0  \n",
       "1             0             0  \n",
       "2             0             0  \n",
       "3             0             0  \n",
       "4             0             0  \n",
       "\n",
       "[5 rows x 29 columns]"
      ]
     },
     "execution_count": 40,
     "metadata": {},
     "output_type": "execute_result"
    }
   ],
   "source": [
    "data.head()"
   ]
  },
  {
   "cell_type": "code",
   "execution_count": 41,
   "metadata": {},
   "outputs": [],
   "source": [
    "data.drop(['REPORTNO'],axis=1, inplace= True)"
   ]
  },
  {
   "cell_type": "code",
   "execution_count": 42,
   "metadata": {},
   "outputs": [],
   "source": [
    "data.drop(['INCDATE'],axis=1, inplace= True)\n",
    "data.drop(['INCDTTM'],axis=1, inplace= True)"
   ]
  },
  {
   "cell_type": "code",
   "execution_count": 43,
   "metadata": {},
   "outputs": [],
   "source": [
    "from sklearn.preprocessing import StandardScaler\n",
    "from sklearn import preprocessing"
   ]
  },
  {
   "cell_type": "code",
   "execution_count": 44,
   "metadata": {},
   "outputs": [],
   "source": [
    "data_X =data.loc[:, data.columns != 'SEVERITYCODE']"
   ]
  },
  {
   "cell_type": "code",
   "execution_count": 45,
   "metadata": {},
   "outputs": [
    {
     "data": {
      "text/html": [
       "<div>\n",
       "<style scoped>\n",
       "    .dataframe tbody tr th:only-of-type {\n",
       "        vertical-align: middle;\n",
       "    }\n",
       "\n",
       "    .dataframe tbody tr th {\n",
       "        vertical-align: top;\n",
       "    }\n",
       "\n",
       "    .dataframe thead th {\n",
       "        text-align: right;\n",
       "    }\n",
       "</style>\n",
       "<table border=\"1\" class=\"dataframe\">\n",
       "  <thead>\n",
       "    <tr style=\"text-align: right;\">\n",
       "      <th></th>\n",
       "      <th>OBJECTID</th>\n",
       "      <th>INCKEY</th>\n",
       "      <th>COLDETKEY</th>\n",
       "      <th>STATUS</th>\n",
       "      <th>ADDRTYPE</th>\n",
       "      <th>INTKEY</th>\n",
       "      <th>SEVERITYCODE.1</th>\n",
       "      <th>SEVERITYDESC</th>\n",
       "      <th>COLLISIONTYPE</th>\n",
       "      <th>PERSONCOUNT</th>\n",
       "      <th>...</th>\n",
       "      <th>SDOT_COLDESC</th>\n",
       "      <th>UNDERINFL</th>\n",
       "      <th>WEATHER</th>\n",
       "      <th>ROADCOND</th>\n",
       "      <th>LIGHTCOND</th>\n",
       "      <th>ST_COLCODE</th>\n",
       "      <th>ST_COLDESC</th>\n",
       "      <th>SEGLANEKEY</th>\n",
       "      <th>CROSSWALKKEY</th>\n",
       "      <th>HITPARKEDCAR</th>\n",
       "    </tr>\n",
       "  </thead>\n",
       "  <tbody>\n",
       "    <tr>\n",
       "      <th>0</th>\n",
       "      <td>1</td>\n",
       "      <td>1307</td>\n",
       "      <td>1307</td>\n",
       "      <td>0</td>\n",
       "      <td>2</td>\n",
       "      <td>37475.000000</td>\n",
       "      <td>2</td>\n",
       "      <td>0</td>\n",
       "      <td>0</td>\n",
       "      <td>2</td>\n",
       "      <td>...</td>\n",
       "      <td>14</td>\n",
       "      <td>2</td>\n",
       "      <td>4</td>\n",
       "      <td>8</td>\n",
       "      <td>5</td>\n",
       "      <td>55</td>\n",
       "      <td>4</td>\n",
       "      <td>0</td>\n",
       "      <td>0</td>\n",
       "      <td>0</td>\n",
       "    </tr>\n",
       "    <tr>\n",
       "      <th>1</th>\n",
       "      <td>2</td>\n",
       "      <td>52200</td>\n",
       "      <td>52200</td>\n",
       "      <td>0</td>\n",
       "      <td>1</td>\n",
       "      <td>37558.450576</td>\n",
       "      <td>1</td>\n",
       "      <td>1</td>\n",
       "      <td>9</td>\n",
       "      <td>2</td>\n",
       "      <td>...</td>\n",
       "      <td>16</td>\n",
       "      <td>0</td>\n",
       "      <td>6</td>\n",
       "      <td>8</td>\n",
       "      <td>2</td>\n",
       "      <td>56</td>\n",
       "      <td>16</td>\n",
       "      <td>0</td>\n",
       "      <td>0</td>\n",
       "      <td>0</td>\n",
       "    </tr>\n",
       "    <tr>\n",
       "      <th>2</th>\n",
       "      <td>3</td>\n",
       "      <td>26700</td>\n",
       "      <td>26700</td>\n",
       "      <td>0</td>\n",
       "      <td>1</td>\n",
       "      <td>37558.450576</td>\n",
       "      <td>1</td>\n",
       "      <td>1</td>\n",
       "      <td>5</td>\n",
       "      <td>4</td>\n",
       "      <td>...</td>\n",
       "      <td>17</td>\n",
       "      <td>0</td>\n",
       "      <td>4</td>\n",
       "      <td>0</td>\n",
       "      <td>5</td>\n",
       "      <td>79</td>\n",
       "      <td>27</td>\n",
       "      <td>0</td>\n",
       "      <td>0</td>\n",
       "      <td>0</td>\n",
       "    </tr>\n",
       "    <tr>\n",
       "      <th>3</th>\n",
       "      <td>4</td>\n",
       "      <td>1144</td>\n",
       "      <td>1144</td>\n",
       "      <td>0</td>\n",
       "      <td>1</td>\n",
       "      <td>37558.450576</td>\n",
       "      <td>1</td>\n",
       "      <td>1</td>\n",
       "      <td>4</td>\n",
       "      <td>3</td>\n",
       "      <td>...</td>\n",
       "      <td>14</td>\n",
       "      <td>2</td>\n",
       "      <td>1</td>\n",
       "      <td>0</td>\n",
       "      <td>5</td>\n",
       "      <td>69</td>\n",
       "      <td>14</td>\n",
       "      <td>0</td>\n",
       "      <td>0</td>\n",
       "      <td>0</td>\n",
       "    </tr>\n",
       "    <tr>\n",
       "      <th>4</th>\n",
       "      <td>5</td>\n",
       "      <td>17700</td>\n",
       "      <td>17700</td>\n",
       "      <td>0</td>\n",
       "      <td>2</td>\n",
       "      <td>34387.000000</td>\n",
       "      <td>2</td>\n",
       "      <td>0</td>\n",
       "      <td>0</td>\n",
       "      <td>2</td>\n",
       "      <td>...</td>\n",
       "      <td>14</td>\n",
       "      <td>0</td>\n",
       "      <td>6</td>\n",
       "      <td>8</td>\n",
       "      <td>5</td>\n",
       "      <td>55</td>\n",
       "      <td>4</td>\n",
       "      <td>0</td>\n",
       "      <td>0</td>\n",
       "      <td>0</td>\n",
       "    </tr>\n",
       "  </tbody>\n",
       "</table>\n",
       "<p>5 rows × 25 columns</p>\n",
       "</div>"
      ],
      "text/plain": [
       "   OBJECTID  INCKEY  COLDETKEY  STATUS  ADDRTYPE        INTKEY  \\\n",
       "0         1    1307       1307       0         2  37475.000000   \n",
       "1         2   52200      52200       0         1  37558.450576   \n",
       "2         3   26700      26700       0         1  37558.450576   \n",
       "3         4    1144       1144       0         1  37558.450576   \n",
       "4         5   17700      17700       0         2  34387.000000   \n",
       "\n",
       "   SEVERITYCODE.1  SEVERITYDESC  COLLISIONTYPE  PERSONCOUNT  ...  \\\n",
       "0               2             0              0            2  ...   \n",
       "1               1             1              9            2  ...   \n",
       "2               1             1              5            4  ...   \n",
       "3               1             1              4            3  ...   \n",
       "4               2             0              0            2  ...   \n",
       "\n",
       "   SDOT_COLDESC  UNDERINFL  WEATHER  ROADCOND  LIGHTCOND  ST_COLCODE  \\\n",
       "0            14          2        4         8          5          55   \n",
       "1            16          0        6         8          2          56   \n",
       "2            17          0        4         0          5          79   \n",
       "3            14          2        1         0          5          69   \n",
       "4            14          0        6         8          5          55   \n",
       "\n",
       "   ST_COLDESC  SEGLANEKEY  CROSSWALKKEY  HITPARKEDCAR  \n",
       "0           4           0             0             0  \n",
       "1          16           0             0             0  \n",
       "2          27           0             0             0  \n",
       "3          14           0             0             0  \n",
       "4           4           0             0             0  \n",
       "\n",
       "[5 rows x 25 columns]"
      ]
     },
     "execution_count": 45,
     "metadata": {},
     "output_type": "execute_result"
    }
   ],
   "source": [
    "data_X.head()"
   ]
  },
  {
   "cell_type": "code",
   "execution_count": 46,
   "metadata": {},
   "outputs": [],
   "source": [
    "data_y= data['SEVERITYCODE']"
   ]
  },
  {
   "cell_type": "code",
   "execution_count": 47,
   "metadata": {},
   "outputs": [
    {
     "data": {
      "text/plain": [
       "0    2\n",
       "1    1\n",
       "2    1\n",
       "3    1\n",
       "4    2\n",
       "Name: SEVERITYCODE, dtype: int64"
      ]
     },
     "execution_count": 47,
     "metadata": {},
     "output_type": "execute_result"
    }
   ],
   "source": [
    "data_y.head()"
   ]
  },
  {
   "cell_type": "code",
   "execution_count": 48,
   "metadata": {},
   "outputs": [],
   "source": [
    "data_X = preprocessing.scale(data_X)"
   ]
  },
  {
   "cell_type": "code",
   "execution_count": 49,
   "metadata": {},
   "outputs": [
    {
     "data": {
      "text/plain": [
       "0    2\n",
       "1    1\n",
       "2    1\n",
       "3    1\n",
       "4    2\n",
       "Name: SEVERITYCODE, dtype: int64"
      ]
     },
     "execution_count": 49,
     "metadata": {},
     "output_type": "execute_result"
    }
   ],
   "source": [
    "data_y[0:5]"
   ]
  },
  {
   "cell_type": "markdown",
   "metadata": {},
   "source": [
    "## Train Test Split"
   ]
  },
  {
   "cell_type": "code",
   "execution_count": 50,
   "metadata": {},
   "outputs": [
    {
     "name": "stdout",
     "output_type": "stream",
     "text": [
      "Train set: (136271, 25) (136271,)\n",
      "Test set: (58402, 25) (58402,)\n"
     ]
    }
   ],
   "source": [
    "from sklearn.model_selection import train_test_split\n",
    "X_train, X_test, y_train, y_test = train_test_split( data_X,data_y, test_size=0.3, random_state=4)\n",
    "print ('Train set:', X_train.shape,  y_train.shape)\n",
    "print ('Test set:', X_test.shape,  y_test.shape)"
   ]
  },
  {
   "cell_type": "markdown",
   "metadata": {},
   "source": [
    "## Regression"
   ]
  },
  {
   "cell_type": "code",
   "execution_count": 51,
   "metadata": {},
   "outputs": [],
   "source": [
    "from sklearn.linear_model import LogisticRegression\n",
    "from sklearn.metrics import confusion_matrix"
   ]
  },
  {
   "cell_type": "code",
   "execution_count": 52,
   "metadata": {},
   "outputs": [],
   "source": [
    "from sklearn.metrics import accuracy_score"
   ]
  },
  {
   "cell_type": "code",
   "execution_count": 53,
   "metadata": {},
   "outputs": [
    {
     "data": {
      "text/plain": [
       "LogisticRegression(C=0.01, class_weight=None, dual=False, fit_intercept=True,\n",
       "                   intercept_scaling=1, l1_ratio=None, max_iter=100,\n",
       "                   multi_class='warn', n_jobs=None, penalty='l2',\n",
       "                   random_state=None, solver='liblinear', tol=0.0001, verbose=0,\n",
       "                   warm_start=False)"
      ]
     },
     "execution_count": 53,
     "metadata": {},
     "output_type": "execute_result"
    }
   ],
   "source": [
    "LR = LogisticRegression(C=0.01, solver='liblinear').fit(X_train,y_train)\n",
    "LR"
   ]
  },
  {
   "cell_type": "code",
   "execution_count": 54,
   "metadata": {},
   "outputs": [],
   "source": [
    "yhat = LR.predict(X_test)"
   ]
  },
  {
   "cell_type": "code",
   "execution_count": 57,
   "metadata": {},
   "outputs": [
    {
     "data": {
      "text/plain": [
       "array([[0.00214195, 0.99785805],\n",
       "       [0.99676402, 0.00323598],\n",
       "       [0.99787399, 0.00212601],\n",
       "       ...,\n",
       "       [0.00147973, 0.99852027],\n",
       "       [0.99746255, 0.00253745],\n",
       "       [0.99733   , 0.00267   ]])"
      ]
     },
     "execution_count": 57,
     "metadata": {},
     "output_type": "execute_result"
    }
   ],
   "source": [
    "yhat_prob = LR.predict_proba(X_test)\n",
    "yhat_prob"
   ]
  },
  {
   "cell_type": "code",
   "execution_count": 56,
   "metadata": {},
   "outputs": [],
   "source": [
    "LR_score=accuracy_score(y_test, yhat)"
   ]
  },
  {
   "cell_type": "code",
   "execution_count": 58,
   "metadata": {},
   "outputs": [
    {
     "data": {
      "text/plain": [
       "1.0"
      ]
     },
     "execution_count": 58,
     "metadata": {},
     "output_type": "execute_result"
    }
   ],
   "source": [
    "LR_score"
   ]
  },
  {
   "cell_type": "code",
   "execution_count": 59,
   "metadata": {},
   "outputs": [
    {
     "name": "stdout",
     "output_type": "stream",
     "text": [
      "[2 1 1 ... 2 1 1] 181980    2\n",
      "163332    1\n",
      "180525    1\n",
      "1695      2\n",
      "143631    2\n",
      "         ..\n",
      "9114      1\n",
      "126448    1\n",
      "99140     2\n",
      "35293     1\n",
      "163108    1\n",
      "Name: SEVERITYCODE, Length: 58402, dtype: int64\n"
     ]
    }
   ],
   "source": [
    "print(yhat, y_test)"
   ]
  },
  {
   "cell_type": "markdown",
   "metadata": {},
   "source": [
    "## Decision Trees"
   ]
  },
  {
   "cell_type": "code",
   "execution_count": 60,
   "metadata": {},
   "outputs": [],
   "source": [
    "from sklearn.tree import DecisionTreeClassifier"
   ]
  },
  {
   "cell_type": "code",
   "execution_count": 61,
   "metadata": {},
   "outputs": [
    {
     "data": {
      "text/plain": [
       "DecisionTreeClassifier(class_weight=None, criterion='entropy', max_depth=None,\n",
       "                       max_features=None, max_leaf_nodes=None,\n",
       "                       min_impurity_decrease=0.0, min_impurity_split=None,\n",
       "                       min_samples_leaf=1, min_samples_split=2,\n",
       "                       min_weight_fraction_leaf=0.0, presort=False,\n",
       "                       random_state=None, splitter='best')"
      ]
     },
     "execution_count": 61,
     "metadata": {},
     "output_type": "execute_result"
    }
   ],
   "source": [
    "dtree = DecisionTreeClassifier(criterion=\"entropy\")\n",
    "dtree "
   ]
  },
  {
   "cell_type": "code",
   "execution_count": 62,
   "metadata": {},
   "outputs": [
    {
     "data": {
      "text/plain": [
       "DecisionTreeClassifier(class_weight=None, criterion='entropy', max_depth=None,\n",
       "                       max_features=None, max_leaf_nodes=None,\n",
       "                       min_impurity_decrease=0.0, min_impurity_split=None,\n",
       "                       min_samples_leaf=1, min_samples_split=2,\n",
       "                       min_weight_fraction_leaf=0.0, presort=False,\n",
       "                       random_state=None, splitter='best')"
      ]
     },
     "execution_count": 62,
     "metadata": {},
     "output_type": "execute_result"
    }
   ],
   "source": [
    "dtree.fit(X_train,y_train)"
   ]
  },
  {
   "cell_type": "code",
   "execution_count": 63,
   "metadata": {},
   "outputs": [],
   "source": [
    "predTree = dtree.predict(X_test)"
   ]
  },
  {
   "cell_type": "code",
   "execution_count": 66,
   "metadata": {},
   "outputs": [],
   "source": [
    "DT_score= accuracy_score(y_test, predTree)"
   ]
  },
  {
   "cell_type": "code",
   "execution_count": 67,
   "metadata": {},
   "outputs": [
    {
     "data": {
      "text/plain": [
       "1.0"
      ]
     },
     "execution_count": 67,
     "metadata": {},
     "output_type": "execute_result"
    }
   ],
   "source": [
    "DT_score"
   ]
  },
  {
   "cell_type": "markdown",
   "metadata": {},
   "source": [
    "## Nural Network "
   ]
  },
  {
   "cell_type": "code",
   "execution_count": 68,
   "metadata": {},
   "outputs": [
    {
     "name": "stderr",
     "output_type": "stream",
     "text": [
      "Using TensorFlow backend.\n"
     ]
    }
   ],
   "source": [
    "from keras.models import Sequential\n",
    "from keras.layers import Dense"
   ]
  },
  {
   "cell_type": "code",
   "execution_count": 69,
   "metadata": {},
   "outputs": [],
   "source": [
    "model = Sequential()\n",
    "model.add(Dense(12, input_dim=25, activation='relu'))\n",
    "model.add(Dense(8, activation='relu'))\n",
    "model.add(Dense(1, activation='sigmoid'))"
   ]
  },
  {
   "cell_type": "code",
   "execution_count": 70,
   "metadata": {},
   "outputs": [],
   "source": [
    "model.compile(loss='binary_crossentropy', optimizer='adam', metrics=['accuracy'])"
   ]
  },
  {
   "cell_type": "code",
   "execution_count": 71,
   "metadata": {},
   "outputs": [
    {
     "name": "stdout",
     "output_type": "stream",
     "text": [
      "Epoch 1/150\n",
      "682/682 [==============================] - 1s 747us/step - loss: -47.6830 - accuracy: 0.6811\n",
      "Epoch 2/150\n",
      "682/682 [==============================] - 0s 727us/step - loss: -950.3379 - accuracy: 0.7001\n",
      "Epoch 3/150\n",
      "682/682 [==============================] - 0s 717us/step - loss: -3958.8450 - accuracy: 0.7001\n",
      "Epoch 4/150\n",
      "682/682 [==============================] - 0s 725us/step - loss: -9702.1191 - accuracy: 0.7001\n",
      "Epoch 5/150\n",
      "682/682 [==============================] - 0s 723us/step - loss: -18526.9668 - accuracy: 0.7001\n",
      "Epoch 6/150\n",
      "682/682 [==============================] - 0s 724us/step - loss: -30718.6797 - accuracy: 0.7001\n",
      "Epoch 7/150\n",
      "682/682 [==============================] - 1s 737us/step - loss: -46513.5938 - accuracy: 0.7001\n",
      "Epoch 8/150\n",
      "682/682 [==============================] - 0s 729us/step - loss: -66209.4609 - accuracy: 0.7001\n",
      "Epoch 9/150\n",
      "682/682 [==============================] - 0s 732us/step - loss: -90058.7422 - accuracy: 0.7001\n",
      "Epoch 10/150\n",
      "682/682 [==============================] - 0s 725us/step - loss: -118302.6797 - accuracy: 0.7001\n",
      "Epoch 11/150\n",
      "682/682 [==============================] - 1s 745us/step - loss: -151235.5469 - accuracy: 0.7001\n",
      "Epoch 12/150\n",
      "682/682 [==============================] - 0s 725us/step - loss: -189092.9062 - accuracy: 0.7001\n",
      "Epoch 13/150\n",
      "682/682 [==============================] - 1s 746us/step - loss: -232189.4688 - accuracy: 0.7001\n",
      "Epoch 14/150\n",
      "682/682 [==============================] - 1s 740us/step - loss: -280740.0312 - accuracy: 0.7001\n",
      "Epoch 15/150\n",
      "682/682 [==============================] - 1s 734us/step - loss: -334877.7812 - accuracy: 0.7001\n",
      "Epoch 16/150\n",
      "682/682 [==============================] - 1s 749us/step - loss: -394955.5000 - accuracy: 0.7001\n",
      "Epoch 17/150\n",
      "682/682 [==============================] - 1s 742us/step - loss: -461332.2188 - accuracy: 0.7001\n",
      "Epoch 18/150\n",
      "682/682 [==============================] - 1s 742us/step - loss: -534156.5000 - accuracy: 0.7001\n",
      "Epoch 19/150\n",
      "682/682 [==============================] - 1s 750us/step - loss: -613684.3750 - accuracy: 0.7001\n",
      "Epoch 20/150\n",
      "682/682 [==============================] - 1s 739us/step - loss: -700290.0000 - accuracy: 0.7001\n",
      "Epoch 21/150\n",
      "682/682 [==============================] - 1s 746us/step - loss: -794215.8750 - accuracy: 0.7001\n",
      "Epoch 22/150\n",
      "682/682 [==============================] - 1s 748us/step - loss: -895724.8125 - accuracy: 0.7001\n",
      "Epoch 23/150\n",
      "682/682 [==============================] - 1s 738us/step - loss: -1004884.0000 - accuracy: 0.7001\n",
      "Epoch 24/150\n",
      "682/682 [==============================] - 1s 762us/step - loss: -1121958.0000 - accuracy: 0.7001\n",
      "Epoch 25/150\n",
      "682/682 [==============================] - 1s 736us/step - loss: -1247479.3750 - accuracy: 0.7001\n",
      "Epoch 26/150\n",
      "682/682 [==============================] - 1s 751us/step - loss: -1381382.7500 - accuracy: 0.7001\n",
      "Epoch 27/150\n",
      "682/682 [==============================] - 0s 733us/step - loss: -1524235.1250 - accuracy: 0.7001\n",
      "Epoch 28/150\n",
      "682/682 [==============================] - 0s 732us/step - loss: -1676190.6250 - accuracy: 0.7001\n",
      "Epoch 29/150\n",
      "682/682 [==============================] - 1s 745us/step - loss: -1837541.5000 - accuracy: 0.7001\n",
      "Epoch 30/150\n",
      "682/682 [==============================] - 1s 740us/step - loss: -2008435.3750 - accuracy: 0.7001\n",
      "Epoch 31/150\n",
      "682/682 [==============================] - 1s 746us/step - loss: -2189111.0000 - accuracy: 0.7001\n",
      "Epoch 32/150\n",
      "682/682 [==============================] - 1s 734us/step - loss: -2379887.0000 - accuracy: 0.7001\n",
      "Epoch 33/150\n",
      "682/682 [==============================] - 1s 742us/step - loss: -2581034.7500 - accuracy: 0.7001\n",
      "Epoch 34/150\n",
      "682/682 [==============================] - 1s 750us/step - loss: -2792852.5000 - accuracy: 0.7001\n",
      "Epoch 35/150\n",
      "682/682 [==============================] - 1s 742us/step - loss: -3015519.0000 - accuracy: 0.7001\n",
      "Epoch 36/150\n",
      "682/682 [==============================] - 1s 749us/step - loss: -3249349.0000 - accuracy: 0.7001\n",
      "Epoch 37/150\n",
      "682/682 [==============================] - 1s 738us/step - loss: -3494685.5000 - accuracy: 0.7001\n",
      "Epoch 38/150\n",
      "682/682 [==============================] - 1s 736us/step - loss: -3751594.5000 - accuracy: 0.7001\n",
      "Epoch 39/150\n",
      "682/682 [==============================] - 0s 730us/step - loss: -4020090.5000 - accuracy: 0.7001\n",
      "Epoch 40/150\n",
      "682/682 [==============================] - 0s 731us/step - loss: -4300690.0000 - accuracy: 0.7001\n",
      "Epoch 41/150\n",
      "682/682 [==============================] - 1s 734us/step - loss: -4593383.5000 - accuracy: 0.7001\n",
      "Epoch 42/150\n",
      "682/682 [==============================] - 1s 752us/step - loss: -4898792.0000 - accuracy: 0.7001\n",
      "Epoch 43/150\n",
      "682/682 [==============================] - 0s 728us/step - loss: -5217319.5000 - accuracy: 0.7001\n",
      "Epoch 44/150\n",
      "682/682 [==============================] - 0s 726us/step - loss: -5548960.5000 - accuracy: 0.7001\n",
      "Epoch 45/150\n",
      "682/682 [==============================] - 0s 732us/step - loss: -5893562.0000 - accuracy: 0.7001\n",
      "Epoch 46/150\n",
      "682/682 [==============================] - 1s 746us/step - loss: -6252135.5000 - accuracy: 0.7001\n",
      "Epoch 47/150\n",
      "682/682 [==============================] - 1s 745us/step - loss: -6624488.0000 - accuracy: 0.7001\n",
      "Epoch 48/150\n",
      "682/682 [==============================] - 1s 749us/step - loss: -7011189.0000 - accuracy: 0.7001\n",
      "Epoch 49/150\n",
      "682/682 [==============================] - 1s 752us/step - loss: -7411852.5000 - accuracy: 0.7001\n",
      "Epoch 50/150\n",
      "682/682 [==============================] - 1s 735us/step - loss: -7826090.5000 - accuracy: 0.7001\n",
      "Epoch 51/150\n",
      "682/682 [==============================] - 1s 739us/step - loss: -8255879.5000 - accuracy: 0.7001\n",
      "Epoch 52/150\n",
      "682/682 [==============================] - 1s 756us/step - loss: -8700717.0000 - accuracy: 0.7001\n",
      "Epoch 53/150\n",
      "682/682 [==============================] - 1s 745us/step - loss: -9160633.0000 - accuracy: 0.7001\n",
      "Epoch 54/150\n",
      "682/682 [==============================] - 0s 725us/step - loss: -9636157.0000 - accuracy: 0.7001\n",
      "Epoch 55/150\n",
      "682/682 [==============================] - 1s 747us/step - loss: -10127978.0000 - accuracy: 0.7001\n",
      "Epoch 56/150\n",
      "682/682 [==============================] - 1s 743us/step - loss: -10635966.0000 - accuracy: 0.7001\n",
      "Epoch 57/150\n",
      "682/682 [==============================] - 1s 741us/step - loss: -11159989.0000 - accuracy: 0.7001\n",
      "Epoch 58/150\n",
      "682/682 [==============================] - 1s 733us/step - loss: -11700666.0000 - accuracy: 0.7001\n",
      "Epoch 59/150\n",
      "682/682 [==============================] - 0s 729us/step - loss: -12257719.0000 - accuracy: 0.7001\n",
      "Epoch 60/150\n",
      "682/682 [==============================] - 1s 743us/step - loss: -12831998.0000 - accuracy: 0.7001\n",
      "Epoch 61/150\n",
      "682/682 [==============================] - 0s 723us/step - loss: -13423638.0000 - accuracy: 0.7001\n",
      "Epoch 62/150\n",
      "682/682 [==============================] - 1s 741us/step - loss: -14032177.0000 - accuracy: 0.7001\n",
      "Epoch 63/150\n",
      "682/682 [==============================] - 1s 735us/step - loss: -14658720.0000 - accuracy: 0.7001\n",
      "Epoch 64/150\n",
      "682/682 [==============================] - 1s 753us/step - loss: -15304161.0000 - accuracy: 0.7001\n",
      "Epoch 65/150\n",
      "682/682 [==============================] - 1s 743us/step - loss: -15968111.0000 - accuracy: 0.7001\n",
      "Epoch 66/150\n",
      "682/682 [==============================] - 1s 762us/step - loss: -16649231.0000 - accuracy: 0.7001\n",
      "Epoch 67/150\n",
      "682/682 [==============================] - 1s 744us/step - loss: -17348980.0000 - accuracy: 0.7001\n",
      "Epoch 68/150\n",
      "682/682 [==============================] - 1s 741us/step - loss: -18066926.0000 - accuracy: 0.7001\n",
      "Epoch 69/150\n",
      "682/682 [==============================] - 1s 741us/step - loss: -18805198.0000 - accuracy: 0.7001\n",
      "Epoch 70/150\n",
      "682/682 [==============================] - 1s 753us/step - loss: -19562804.0000 - accuracy: 0.7001\n",
      "Epoch 71/150\n",
      "682/682 [==============================] - 1s 745us/step - loss: -20339682.0000 - accuracy: 0.7001\n",
      "Epoch 72/150\n",
      "682/682 [==============================] - 1s 750us/step - loss: -21136828.0000 - accuracy: 0.7001\n",
      "Epoch 73/150\n",
      "682/682 [==============================] - 1s 735us/step - loss: -21954216.0000 - accuracy: 0.7001\n",
      "Epoch 74/150\n",
      "682/682 [==============================] - 1s 747us/step - loss: -22790862.0000 - accuracy: 0.7001\n",
      "Epoch 75/150\n",
      "682/682 [==============================] - 1s 739us/step - loss: -23649818.0000 - accuracy: 0.7001\n",
      "Epoch 76/150\n",
      "682/682 [==============================] - 1s 733us/step - loss: -24529936.0000 - accuracy: 0.7001\n",
      "Epoch 77/150\n",
      "682/682 [==============================] - 0s 722us/step - loss: -25430340.0000 - accuracy: 0.7001\n",
      "Epoch 78/150\n",
      "682/682 [==============================] - 0s 726us/step - loss: -26352696.0000 - accuracy: 0.7001\n",
      "Epoch 79/150\n",
      "682/682 [==============================] - 0s 730us/step - loss: -27296724.0000 - accuracy: 0.7001\n",
      "Epoch 80/150\n",
      "682/682 [==============================] - 1s 741us/step - loss: -28262792.0000 - accuracy: 0.7001\n",
      "Epoch 81/150\n",
      "682/682 [==============================] - 0s 725us/step - loss: -29250276.0000 - accuracy: 0.7001\n",
      "Epoch 82/150\n",
      "682/682 [==============================] - 1s 746us/step - loss: -30261582.0000 - accuracy: 0.7001\n",
      "Epoch 83/150\n",
      "682/682 [==============================] - 0s 725us/step - loss: -31296042.0000 - accuracy: 0.7001\n",
      "Epoch 84/150\n",
      "682/682 [==============================] - 1s 742us/step - loss: -32352776.0000 - accuracy: 0.7001\n",
      "Epoch 85/150\n",
      "682/682 [==============================] - 0s 729us/step - loss: -33431454.0000 - accuracy: 0.7001\n",
      "Epoch 86/150\n",
      "682/682 [==============================] - 1s 736us/step - loss: -34533708.0000 - accuracy: 0.7001\n",
      "Epoch 87/150\n",
      "682/682 [==============================] - 0s 730us/step - loss: -35660292.0000 - accuracy: 0.7001\n",
      "Epoch 88/150\n",
      "682/682 [==============================] - 1s 748us/step - loss: -36809828.0000 - accuracy: 0.7001\n",
      "Epoch 89/150\n",
      "682/682 [==============================] - 1s 740us/step - loss: -37983140.0000 - accuracy: 0.7001\n",
      "Epoch 90/150\n",
      "682/682 [==============================] - 1s 736us/step - loss: -39179624.0000 - accuracy: 0.7001\n",
      "Epoch 91/150\n",
      "682/682 [==============================] - 1s 733us/step - loss: -40401844.0000 - accuracy: 0.7001\n",
      "Epoch 92/150\n",
      "682/682 [==============================] - 1s 735us/step - loss: -41650324.0000 - accuracy: 0.7001\n",
      "Epoch 93/150\n",
      "682/682 [==============================] - 1s 736us/step - loss: -42923572.0000 - accuracy: 0.7001\n",
      "Epoch 94/150\n",
      "682/682 [==============================] - 1s 736us/step - loss: -44221320.0000 - accuracy: 0.7001\n",
      "Epoch 95/150\n",
      "682/682 [==============================] - 1s 740us/step - loss: -45544880.0000 - accuracy: 0.7001\n",
      "Epoch 96/150\n",
      "682/682 [==============================] - 1s 735us/step - loss: -46894160.0000 - accuracy: 0.7001\n",
      "Epoch 97/150\n",
      "682/682 [==============================] - 1s 742us/step - loss: -48267924.0000 - accuracy: 0.7001\n",
      "Epoch 98/150\n",
      "682/682 [==============================] - 1s 751us/step - loss: -49668932.0000 - accuracy: 0.7001\n",
      "Epoch 99/150\n",
      "682/682 [==============================] - 1s 745us/step - loss: -51099440.0000 - accuracy: 0.7001\n",
      "Epoch 100/150\n",
      "682/682 [==============================] - 1s 736us/step - loss: -52554120.0000 - accuracy: 0.7001\n",
      "Epoch 101/150\n",
      "682/682 [==============================] - 1s 743us/step - loss: -54036820.0000 - accuracy: 0.70010s - loss: -54064060.0000 - accuracy: 0.\n",
      "Epoch 102/150\n",
      "682/682 [==============================] - 1s 741us/step - loss: -55546128.0000 - accuracy: 0.7001\n",
      "Epoch 103/150\n",
      "682/682 [==============================] - 1s 743us/step - loss: -57082384.0000 - accuracy: 0.7001\n",
      "Epoch 104/150\n",
      "682/682 [==============================] - 1s 736us/step - loss: -58645960.0000 - accuracy: 0.7001\n",
      "Epoch 105/150\n",
      "682/682 [==============================] - 1s 737us/step - loss: -60238096.0000 - accuracy: 0.7001\n",
      "Epoch 106/150\n",
      "682/682 [==============================] - 1s 737us/step - loss: -61858528.0000 - accuracy: 0.7001\n",
      "Epoch 107/150\n",
      "682/682 [==============================] - 1s 739us/step - loss: -63507560.0000 - accuracy: 0.7001\n",
      "Epoch 108/150\n",
      "682/682 [==============================] - 1s 735us/step - loss: -65184952.0000 - accuracy: 0.7001\n",
      "Epoch 109/150\n",
      "682/682 [==============================] - 1s 760us/step - loss: -66890240.0000 - accuracy: 0.7001\n",
      "Epoch 110/150\n",
      "682/682 [==============================] - 1s 739us/step - loss: -68624704.0000 - accuracy: 0.7001\n",
      "Epoch 111/150\n",
      "682/682 [==============================] - 0s 730us/step - loss: -70388016.0000 - accuracy: 0.7001\n",
      "Epoch 112/150\n",
      "682/682 [==============================] - 1s 748us/step - loss: -72183224.0000 - accuracy: 0.7001\n",
      "Epoch 113/150\n",
      "682/682 [==============================] - 0s 726us/step - loss: -74007152.0000 - accuracy: 0.7001\n",
      "Epoch 114/150\n",
      "682/682 [==============================] - 1s 763us/step - loss: -75861184.0000 - accuracy: 0.7001\n",
      "Epoch 115/150\n",
      "682/682 [==============================] - 1s 739us/step - loss: -77743944.0000 - accuracy: 0.7001\n",
      "Epoch 116/150\n",
      "682/682 [==============================] - 1s 740us/step - loss: -79657752.0000 - accuracy: 0.7001\n",
      "Epoch 117/150\n",
      "682/682 [==============================] - 1s 734us/step - loss: -81603776.0000 - accuracy: 0.7001\n",
      "Epoch 118/150\n",
      "682/682 [==============================] - 1s 735us/step - loss: -83582784.0000 - accuracy: 0.7001\n",
      "Epoch 119/150\n",
      "682/682 [==============================] - 0s 730us/step - loss: -85590680.0000 - accuracy: 0.7001\n",
      "Epoch 120/150\n",
      "682/682 [==============================] - 1s 737us/step - loss: -87629568.0000 - accuracy: 0.7001\n",
      "Epoch 121/150\n",
      "682/682 [==============================] - 1s 736us/step - loss: -89702008.0000 - accuracy: 0.7001\n",
      "Epoch 122/150\n",
      "682/682 [==============================] - 1s 745us/step - loss: -91808816.0000 - accuracy: 0.7001\n",
      "Epoch 123/150\n",
      "682/682 [==============================] - 1s 750us/step - loss: -93947608.0000 - accuracy: 0.7001\n",
      "Epoch 124/150\n",
      "682/682 [==============================] - 1s 750us/step - loss: -96116328.0000 - accuracy: 0.7001\n",
      "Epoch 125/150\n",
      "682/682 [==============================] - 1s 761us/step - loss: -98315056.0000 - accuracy: 0.7001\n",
      "Epoch 126/150\n",
      "682/682 [==============================] - 1s 743us/step - loss: -100548984.0000 - accuracy: 0.7001\n",
      "Epoch 127/150\n",
      "682/682 [==============================] - 1s 735us/step - loss: -102816200.0000 - accuracy: 0.7001\n",
      "Epoch 128/150\n",
      "682/682 [==============================] - 1s 752us/step - loss: -105113888.0000 - accuracy: 0.7001\n",
      "Epoch 129/150\n",
      "682/682 [==============================] - 1s 754us/step - loss: -107446664.0000 - accuracy: 0.7001\n",
      "Epoch 130/150\n",
      "682/682 [==============================] - 1s 751us/step - loss: -109814160.0000 - accuracy: 0.7001\n",
      "Epoch 131/150\n",
      "682/682 [==============================] - 1s 751us/step - loss: -112214880.0000 - accuracy: 0.7001\n",
      "Epoch 132/150\n",
      "682/682 [==============================] - 1s 758us/step - loss: -114653264.0000 - accuracy: 0.7001\n",
      "Epoch 133/150\n",
      "682/682 [==============================] - 1s 749us/step - loss: -117126320.0000 - accuracy: 0.7001\n",
      "Epoch 134/150\n",
      "682/682 [==============================] - 1s 761us/step - loss: -119632960.0000 - accuracy: 0.7001\n",
      "Epoch 135/150\n",
      "682/682 [==============================] - 1s 747us/step - loss: -122177968.0000 - accuracy: 0.7001\n",
      "Epoch 136/150\n",
      "682/682 [==============================] - 1s 754us/step - loss: -124756040.0000 - accuracy: 0.7001\n",
      "Epoch 137/150\n",
      "682/682 [==============================] - 1s 758us/step - loss: -127371200.0000 - accuracy: 0.7001\n",
      "Epoch 138/150\n",
      "682/682 [==============================] - 1s 737us/step - loss: -130018840.0000 - accuracy: 0.7001\n",
      "Epoch 139/150\n",
      "682/682 [==============================] - 1s 744us/step - loss: -132701160.0000 - accuracy: 0.7001\n",
      "Epoch 140/150\n",
      "682/682 [==============================] - 1s 734us/step - loss: -135422736.0000 - accuracy: 0.7001\n",
      "Epoch 141/150\n",
      "682/682 [==============================] - 0s 733us/step - loss: -138182608.0000 - accuracy: 0.7001\n",
      "Epoch 142/150\n",
      "682/682 [==============================] - 1s 736us/step - loss: -140976848.0000 - accuracy: 0.7001\n",
      "Epoch 143/150\n",
      "682/682 [==============================] - 1s 738us/step - loss: -143808400.0000 - accuracy: 0.7001\n",
      "Epoch 144/150\n",
      "682/682 [==============================] - 1s 737us/step - loss: -146682208.0000 - accuracy: 0.7001\n",
      "Epoch 145/150\n",
      "682/682 [==============================] - 1s 758us/step - loss: -149593168.0000 - accuracy: 0.7001\n",
      "Epoch 146/150\n",
      "682/682 [==============================] - 1s 752us/step - loss: -152535728.0000 - accuracy: 0.7001\n",
      "Epoch 147/150\n",
      "682/682 [==============================] - 1s 750us/step - loss: -155515872.0000 - accuracy: 0.7001\n",
      "Epoch 148/150\n",
      "682/682 [==============================] - 1s 736us/step - loss: -158536784.0000 - accuracy: 0.7001\n",
      "Epoch 149/150\n",
      "682/682 [==============================] - 1s 755us/step - loss: -161593312.0000 - accuracy: 0.7001\n",
      "Epoch 150/150\n",
      "682/682 [==============================] - 1s 744us/step - loss: -164691456.0000 - accuracy: 0.7001\n"
     ]
    },
    {
     "data": {
      "text/plain": [
       "<tensorflow.python.keras.callbacks.History at 0x7fad2539a790>"
      ]
     },
     "execution_count": 71,
     "metadata": {},
     "output_type": "execute_result"
    }
   ],
   "source": [
    "model.fit(X_train, y_train, epochs=150, batch_size=200)"
   ]
  },
  {
   "cell_type": "code",
   "execution_count": 72,
   "metadata": {},
   "outputs": [
    {
     "name": "stdout",
     "output_type": "stream",
     "text": [
      "1826/1826 [==============================] - 1s 578us/step - loss: -166136048.0000 - accuracy: 0.7035\n"
     ]
    }
   ],
   "source": [
    "accuracy = model.evaluate(X_test, y_test)\n"
   ]
  },
  {
   "cell_type": "code",
   "execution_count": 73,
   "metadata": {},
   "outputs": [
    {
     "name": "stdout",
     "output_type": "stream",
     "text": [
      "WARNING:tensorflow:From <ipython-input-73-bc83193b8b59>:1: Sequential.predict_classes (from tensorflow.python.keras.engine.sequential) is deprecated and will be removed after 2021-01-01.\n",
      "Instructions for updating:\n",
      "Please use instead:* `np.argmax(model.predict(x), axis=-1)`,   if your model does multi-class classification   (e.g. if it uses a `softmax` last-layer activation).* `(model.predict(x) > 0.5).astype(\"int32\")`,   if your model does binary classification   (e.g. if it uses a `sigmoid` last-layer activation).\n"
     ]
    }
   ],
   "source": [
    "predictions = model.predict_classes(X_test)"
   ]
  },
  {
   "cell_type": "code",
   "execution_count": 74,
   "metadata": {},
   "outputs": [],
   "source": [
    "ann_score= accuracy_score(y_test, predictions)"
   ]
  },
  {
   "cell_type": "code",
   "execution_count": 75,
   "metadata": {},
   "outputs": [
    {
     "data": {
      "text/plain": [
       "0.7034519365775145"
      ]
     },
     "execution_count": 75,
     "metadata": {},
     "output_type": "execute_result"
    }
   ],
   "source": [
    "ann_score"
   ]
  },
  {
   "cell_type": "code",
   "execution_count": null,
   "metadata": {},
   "outputs": [],
   "source": []
  }
 ],
 "metadata": {
  "kernelspec": {
   "display_name": "Python 3",
   "language": "python",
   "name": "python3"
  },
  "language_info": {
   "codemirror_mode": {
    "name": "ipython",
    "version": 3
   },
   "file_extension": ".py",
   "mimetype": "text/x-python",
   "name": "python",
   "nbconvert_exporter": "python",
   "pygments_lexer": "ipython3",
   "version": "3.8.3"
  }
 },
 "nbformat": 4,
 "nbformat_minor": 4
}
